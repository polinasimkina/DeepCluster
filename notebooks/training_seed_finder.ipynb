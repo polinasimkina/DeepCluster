{
 "cells": [
  {
   "cell_type": "code",
   "execution_count": 1,
   "metadata": {},
   "outputs": [],
   "source": [
    "import tensorflow as tf\n",
    "from tensorflow.keras.callbacks import ModelCheckpoint\n",
    "import numpy as np\n",
    "from sklearn.utils import shuffle\n",
    "\n",
    "import sys \n",
    "sys.path.append('../src/utils/')\n",
    "sys.path.append('../src/models/')\n",
    "sys.path.append('../src/visualization/')\n",
    "\n",
    "from particles import Photon\n",
    "from seed_finder import SeedFinder\n",
    "\n",
    "%load_ext autoreload\n",
    "%autoreload 2"
   ]
  },
  {
   "cell_type": "markdown",
   "metadata": {},
   "source": [
    "# Load and prepare data for training from one- and two-particle samples"
   ]
  },
  {
   "cell_type": "code",
   "execution_count": 2,
   "metadata": {},
   "outputs": [],
   "source": [
    "photon_1 = Photon(n_pcl=1)\n",
    "photon_2 = Photon(n_pcl=2)\n",
    "\n",
    "photons = [photon_1, photon_2]"
   ]
  },
  {
   "cell_type": "code",
   "execution_count": 3,
   "metadata": {},
   "outputs": [
    {
     "name": "stderr",
     "output_type": "stream",
     "text": [
      "100%|██████████| 200000/200000 [00:55<00:00, 3624.32it/s]\n"
     ]
    },
    {
     "name": "stdout",
     "output_type": "stream",
     "text": [
      "(1877250,) (1877250, 7, 7, 1)\n"
     ]
    },
    {
     "name": "stderr",
     "output_type": "stream",
     "text": [
      "100%|██████████| 100000/100000 [00:19<00:00, 5251.17it/s]\n"
     ]
    },
    {
     "name": "stdout",
     "output_type": "stream",
     "text": [
      "(937190,) (937190, 7, 7, 1)\n"
     ]
    },
    {
     "name": "stderr",
     "output_type": "stream",
     "text": [
      "100%|██████████| 100000/100000 [00:28<00:00, 3509.01it/s]\n"
     ]
    },
    {
     "name": "stdout",
     "output_type": "stream",
     "text": [
      "(1481032,) (1481032, 7, 7, 1)\n"
     ]
    },
    {
     "name": "stderr",
     "output_type": "stream",
     "text": [
      "100%|██████████| 50000/50000 [00:12<00:00, 3968.10it/s]\n"
     ]
    },
    {
     "name": "stdout",
     "output_type": "stream",
     "text": [
      "(740027,) (740027, 7, 7, 1)\n"
     ]
    }
   ],
   "source": [
    "Xtrain, ytrain = [], []\n",
    "Xvalid, yvalid = [], []\n",
    "\n",
    "for photon in photons:\n",
    "    Xi, yi = photon.data_for_seed_finder(\"valid\")\n",
    "    Xtrain.extend(Xi)\n",
    "    ytrain.extend(yi)\n",
    "\n",
    "    Xi, yi = photon.data_for_seed_finder(\"test\")\n",
    "    Xvalid.extend(Xi)\n",
    "    yvalid.extend(yi)\n",
    "Xtrain, ytrain = np.array(Xtrain), np.array(ytrain)\n",
    "Xvalid, yvalid = np.array(Xvalid), np.array(yvalid)"
   ]
  },
  {
   "cell_type": "code",
   "execution_count": 4,
   "metadata": {},
   "outputs": [],
   "source": [
    "# shuffle the samples randomly\n",
    "Xtrain, ytrain = shuffle(Xtrain, ytrain, random_state=42)\n",
    "Xvalid, yvalid = shuffle(Xvalid, yvalid, random_state=42)"
   ]
  },
  {
   "cell_type": "markdown",
   "metadata": {},
   "source": [
    "# Prepare the model and training"
   ]
  },
  {
   "cell_type": "code",
   "execution_count": 5,
   "metadata": {},
   "outputs": [
    {
     "name": "stderr",
     "output_type": "stream",
     "text": [
      "2024-01-09 17:36:33.526234: I metal_plugin/src/device/metal_device.cc:1154] Metal device set to: Apple M2\n",
      "2024-01-09 17:36:33.526697: I metal_plugin/src/device/metal_device.cc:296] systemMemory: 8.00 GB\n",
      "2024-01-09 17:36:33.526985: I metal_plugin/src/device/metal_device.cc:313] maxCacheSize: 2.67 GB\n",
      "2024-01-09 17:36:33.527445: I tensorflow/core/common_runtime/pluggable_device/pluggable_device_factory.cc:306] Could not identify NUMA node of platform GPU ID 0, defaulting to 0. Your kernel may not have been built with NUMA support.\n",
      "2024-01-09 17:36:33.528071: I tensorflow/core/common_runtime/pluggable_device/pluggable_device_factory.cc:272] Created TensorFlow device (/job:localhost/replica:0/task:0/device:GPU:0 with 0 MB memory) -> physical PluggableDevice (device: 0, name: METAL, pci bus id: <undefined>)\n",
      "WARNING:absl:At this time, the v2.11+ optimizer `tf.keras.optimizers.Adam` runs slowly on M1/M2 Macs, please use the legacy Keras optimizer instead, located at `tf.keras.optimizers.legacy.Adam`.\n"
     ]
    },
    {
     "name": "stdout",
     "output_type": "stream",
     "text": [
      "Model: \"model\"\n",
      "_________________________________________________________________\n",
      " Layer (type)                Output Shape              Param #   \n",
      "=================================================================\n",
      " input_1 (InputLayer)        [(None, 7, 7, 1)]         0         \n",
      "                                                                 \n",
      " conv2d (Conv2D)             (None, 5, 5, 128)         1280      \n",
      "                                                                 \n",
      " conv2d_1 (Conv2D)           (None, 3, 3, 256)         295168    \n",
      "                                                                 \n",
      " flatten (Flatten)           (None, 2304)              0         \n",
      "                                                                 \n",
      " dense (Dense)               (None, 2400)              5532000   \n",
      "                                                                 \n",
      " dense_1 (Dense)             (None, 500)               1200500   \n",
      "                                                                 \n",
      " dense_2 (Dense)             (None, 1)                 501       \n",
      "                                                                 \n",
      "=================================================================\n",
      "Total params: 7029449 (26.82 MB)\n",
      "Trainable params: 7029449 (26.82 MB)\n",
      "Non-trainable params: 0 (0.00 Byte)\n",
      "_________________________________________________________________\n"
     ]
    }
   ],
   "source": [
    "model = SeedFinder().architecture()\n",
    "model.compile(optimizer=tf.keras.optimizers.Adam(learning_rate=0.0001), loss=tf.keras.losses.BinaryCrossentropy())\n",
    "model.summary()"
   ]
  },
  {
   "cell_type": "code",
   "execution_count": 6,
   "metadata": {},
   "outputs": [],
   "source": [
    "filepath = 'models/seed_finder/run_1/'\n",
    "\n",
    "checkpoint = ModelCheckpoint(\n",
    "        str(filepath)+\"/weights.{epoch:02d}-{val_loss:.4f}.hdf5\", \n",
    "        monitor='val_loss', verbose = 1, save_best_only = True, \n",
    "        mode='auto', save_freq='epoch')\n",
    "\n",
    "callback = tf.keras.callbacks.EarlyStopping(monitor = 'val_loss', patience = 30)"
   ]
  },
  {
   "cell_type": "code",
   "execution_count": 7,
   "metadata": {},
   "outputs": [
    {
     "name": "stdout",
     "output_type": "stream",
     "text": [
      "Epoch 1/100\n"
     ]
    },
    {
     "name": "stderr",
     "output_type": "stream",
     "text": [
      "2024-01-09 17:36:36.374839: I tensorflow/core/grappler/optimizers/custom_graph_optimizer_registry.cc:117] Plugin optimizer for device_type GPU is enabled.\n",
      "2024-01-09 17:36:36.416114: E tensorflow/core/grappler/optimizers/meta_optimizer.cc:961] model_pruner failed: INVALID_ARGUMENT: Graph does not contain terminal node Adam/AssignAddVariableOp.\n"
     ]
    },
    {
     "name": "stdout",
     "output_type": "stream",
     "text": [
      "52474/52474 [==============================] - ETA: 0s - loss: 0.0251\n",
      "Epoch 1: val_loss improved from inf to 0.02112, saving model to models/seed_finder/run_1/weights.01-0.0211.hdf5\n",
      "52474/52474 [==============================] - 948s 18ms/step - loss: 0.0251 - val_loss: 0.0211\n",
      "Epoch 2/100\n",
      "    1/52474 [..............................] - ETA: 25:52 - loss: 0.0046"
     ]
    },
    {
     "name": "stderr",
     "output_type": "stream",
     "text": [
      "/Users/polinasimkina/miniconda3/envs/envdeep/lib/python3.9/site-packages/keras/src/engine/training.py:3103: UserWarning: You are saving your model as an HDF5 file via `model.save()`. This file format is considered legacy. We recommend using instead the native Keras format, e.g. `model.save('my_model.keras')`.\n",
      "  saving_api.save_model(\n"
     ]
    },
    {
     "name": "stdout",
     "output_type": "stream",
     "text": [
      "52474/52474 [==============================] - ETA: 0s - loss: 0.0181\n",
      "Epoch 2: val_loss improved from 0.02112 to 0.01613, saving model to models/seed_finder/run_1/weights.02-0.0161.hdf5\n",
      "52474/52474 [==============================] - 942s 18ms/step - loss: 0.0181 - val_loss: 0.0161\n",
      "Epoch 3/100\n",
      "52474/52474 [==============================] - ETA: 0s - loss: 0.0161\n",
      "Epoch 3: val_loss improved from 0.01613 to 0.01493, saving model to models/seed_finder/run_1/weights.03-0.0149.hdf5\n",
      "52474/52474 [==============================] - 960s 18ms/step - loss: 0.0161 - val_loss: 0.0149\n",
      "Epoch 4/100\n",
      "52474/52474 [==============================] - ETA: 0s - loss: 0.0149\n",
      "Epoch 4: val_loss improved from 0.01493 to 0.01386, saving model to models/seed_finder/run_1/weights.04-0.0139.hdf5\n",
      "52474/52474 [==============================] - 970s 18ms/step - loss: 0.0149 - val_loss: 0.0139\n",
      "Epoch 5/100\n",
      "52474/52474 [==============================] - ETA: 0s - loss: 0.0140\n",
      "Epoch 5: val_loss improved from 0.01386 to 0.01342, saving model to models/seed_finder/run_1/weights.05-0.0134.hdf5\n",
      "52474/52474 [==============================] - 978s 19ms/step - loss: 0.0140 - val_loss: 0.0134\n",
      "Epoch 6/100\n",
      "52474/52474 [==============================] - ETA: 0s - loss: 0.0133\n",
      "Epoch 6: val_loss improved from 0.01342 to 0.01304, saving model to models/seed_finder/run_1/weights.06-0.0130.hdf5\n",
      "52474/52474 [==============================] - 962s 18ms/step - loss: 0.0133 - val_loss: 0.0130\n",
      "Epoch 7/100\n",
      "52474/52474 [==============================] - ETA: 0s - loss: 0.0129\n",
      "Epoch 7: val_loss improved from 0.01304 to 0.01202, saving model to models/seed_finder/run_1/weights.07-0.0120.hdf5\n",
      "52474/52474 [==============================] - 950s 18ms/step - loss: 0.0129 - val_loss: 0.0120\n",
      "Epoch 8/100\n",
      "52474/52474 [==============================] - ETA: 0s - loss: 0.0125\n",
      "Epoch 8: val_loss did not improve from 0.01202\n",
      "52474/52474 [==============================] - 950s 18ms/step - loss: 0.0125 - val_loss: 0.0133\n",
      "Epoch 9/100\n",
      "52473/52474 [============================>.] - ETA: 0s - loss: 0.0122\n",
      "Epoch 9: val_loss did not improve from 0.01202\n",
      "52474/52474 [==============================] - 928s 18ms/step - loss: 0.0122 - val_loss: 0.0134\n",
      "Epoch 10/100\n",
      "52474/52474 [==============================] - ETA: 0s - loss: 0.0120\n",
      "Epoch 10: val_loss did not improve from 0.01202\n",
      "52474/52474 [==============================] - 941s 18ms/step - loss: 0.0120 - val_loss: 0.0148\n",
      "Epoch 11/100\n",
      "52474/52474 [==============================] - ETA: 0s - loss: 0.0119\n",
      "Epoch 11: val_loss did not improve from 0.01202\n",
      "52474/52474 [==============================] - 942s 18ms/step - loss: 0.0119 - val_loss: 0.0123\n",
      "Epoch 12/100\n",
      "52474/52474 [==============================] - ETA: 0s - loss: 0.0116\n",
      "Epoch 12: val_loss did not improve from 0.01202\n",
      "52474/52474 [==============================] - 941s 18ms/step - loss: 0.0116 - val_loss: 0.0130\n",
      "Epoch 13/100\n",
      "52474/52474 [==============================] - ETA: 0s - loss: 0.0115\n",
      "Epoch 13: val_loss improved from 0.01202 to 0.01177, saving model to models/seed_finder/run_1/weights.13-0.0118.hdf5\n",
      "52474/52474 [==============================] - 942s 18ms/step - loss: 0.0115 - val_loss: 0.0118\n",
      "Epoch 14/100\n",
      "52474/52474 [==============================] - ETA: 0s - loss: 0.0114\n",
      "Epoch 14: val_loss improved from 0.01177 to 0.01154, saving model to models/seed_finder/run_1/weights.14-0.0115.hdf5\n",
      "52474/52474 [==============================] - 944s 18ms/step - loss: 0.0114 - val_loss: 0.0115\n",
      "Epoch 15/100\n",
      "52474/52474 [==============================] - ETA: 0s - loss: 0.0112\n",
      "Epoch 15: val_loss improved from 0.01154 to 0.01150, saving model to models/seed_finder/run_1/weights.15-0.0115.hdf5\n",
      "52474/52474 [==============================] - 939s 18ms/step - loss: 0.0112 - val_loss: 0.0115\n",
      "Epoch 16/100\n",
      "52474/52474 [==============================] - ETA: 0s - loss: 0.0112\n",
      "Epoch 16: val_loss did not improve from 0.01150\n",
      "52474/52474 [==============================] - 940s 18ms/step - loss: 0.0112 - val_loss: 0.0116\n",
      "Epoch 17/100\n",
      "52474/52474 [==============================] - ETA: 0s - loss: 0.0110\n",
      "Epoch 17: val_loss did not improve from 0.01150\n",
      "52474/52474 [==============================] - 943s 18ms/step - loss: 0.0110 - val_loss: 0.0117\n",
      "Epoch 18/100\n",
      "52474/52474 [==============================] - ETA: 0s - loss: 0.0110\n",
      "Epoch 18: val_loss did not improve from 0.01150\n",
      "52474/52474 [==============================] - 942s 18ms/step - loss: 0.0110 - val_loss: 0.0118\n",
      "Epoch 19/100\n",
      "52474/52474 [==============================] - ETA: 0s - loss: 0.0109\n",
      "Epoch 19: val_loss did not improve from 0.01150\n",
      "52474/52474 [==============================] - 935s 18ms/step - loss: 0.0109 - val_loss: 0.0117\n",
      "Epoch 20/100\n",
      "52474/52474 [==============================] - ETA: 0s - loss: 0.0108\n",
      "Epoch 20: val_loss improved from 0.01150 to 0.01107, saving model to models/seed_finder/run_1/weights.20-0.0111.hdf5\n",
      "52474/52474 [==============================] - 935s 18ms/step - loss: 0.0108 - val_loss: 0.0111\n",
      "Epoch 21/100\n",
      "52474/52474 [==============================] - ETA: 0s - loss: 0.0107\n",
      "Epoch 21: val_loss improved from 0.01107 to 0.01059, saving model to models/seed_finder/run_1/weights.21-0.0106.hdf5\n",
      "52474/52474 [==============================] - 925s 18ms/step - loss: 0.0107 - val_loss: 0.0106\n",
      "Epoch 22/100\n",
      "52474/52474 [==============================] - ETA: 0s - loss: 0.0107\n",
      "Epoch 22: val_loss did not improve from 0.01059\n",
      "52474/52474 [==============================] - 940s 18ms/step - loss: 0.0107 - val_loss: 0.0108\n",
      "Epoch 23/100\n",
      "52474/52474 [==============================] - ETA: 0s - loss: 0.0106\n",
      "Epoch 23: val_loss did not improve from 0.01059\n",
      "52474/52474 [==============================] - 939s 18ms/step - loss: 0.0106 - val_loss: 0.0119\n",
      "Epoch 24/100\n",
      "52474/52474 [==============================] - ETA: 0s - loss: 0.0106\n",
      "Epoch 24: val_loss did not improve from 0.01059\n",
      "52474/52474 [==============================] - 934s 18ms/step - loss: 0.0106 - val_loss: 0.0110\n",
      "Epoch 25/100\n",
      "52474/52474 [==============================] - ETA: 0s - loss: 0.0105\n",
      "Epoch 25: val_loss did not improve from 0.01059\n",
      "52474/52474 [==============================] - 5628s 107ms/step - loss: 0.0105 - val_loss: 0.0119\n",
      "Epoch 26/100\n",
      "52474/52474 [==============================] - ETA: 0s - loss: 0.0105\n",
      "Epoch 26: val_loss did not improve from 0.01059\n",
      "52474/52474 [==============================] - 7671s 146ms/step - loss: 0.0105 - val_loss: 0.0112\n",
      "Epoch 27/100\n",
      "52474/52474 [==============================] - ETA: 0s - loss: 0.0105\n",
      "Epoch 27: val_loss did not improve from 0.01059\n",
      "52474/52474 [==============================] - 23028s 439ms/step - loss: 0.0105 - val_loss: 0.0116\n",
      "Epoch 28/100\n",
      "52474/52474 [==============================] - ETA: 0s - loss: 0.0104\n",
      "Epoch 28: val_loss did not improve from 0.01059\n",
      "52474/52474 [==============================] - 1001s 19ms/step - loss: 0.0104 - val_loss: 0.0112\n",
      "Epoch 29/100\n",
      "52474/52474 [==============================] - ETA: 0s - loss: 0.0104\n",
      "Epoch 29: val_loss did not improve from 0.01059\n",
      "52474/52474 [==============================] - 986s 19ms/step - loss: 0.0104 - val_loss: 0.0108\n",
      "Epoch 30/100\n",
      "52474/52474 [==============================] - ETA: 0s - loss: 0.0103\n",
      "Epoch 30: val_loss did not improve from 0.01059\n",
      "52474/52474 [==============================] - 986s 19ms/step - loss: 0.0103 - val_loss: 0.0125\n",
      "Epoch 31/100\n",
      "52474/52474 [==============================] - ETA: 0s - loss: 0.0103\n",
      "Epoch 31: val_loss did not improve from 0.01059\n",
      "52474/52474 [==============================] - 975s 19ms/step - loss: 0.0103 - val_loss: 0.0114\n",
      "Epoch 32/100\n",
      "52474/52474 [==============================] - ETA: 0s - loss: 0.0102\n",
      "Epoch 32: val_loss did not improve from 0.01059\n",
      "52474/52474 [==============================] - 982s 19ms/step - loss: 0.0102 - val_loss: 0.0123\n",
      "Epoch 33/100\n",
      "52474/52474 [==============================] - ETA: 0s - loss: 0.0102\n",
      "Epoch 33: val_loss did not improve from 0.01059\n",
      "52474/52474 [==============================] - 949s 18ms/step - loss: 0.0102 - val_loss: 0.0109\n",
      "Epoch 34/100\n",
      "52474/52474 [==============================] - ETA: 0s - loss: 0.0102\n",
      "Epoch 34: val_loss improved from 0.01059 to 0.01052, saving model to models/seed_finder/run_1/weights.34-0.0105.hdf5\n",
      "52474/52474 [==============================] - 970s 18ms/step - loss: 0.0102 - val_loss: 0.0105\n",
      "Epoch 35/100\n",
      "52474/52474 [==============================] - ETA: 0s - loss: 0.0101\n",
      "Epoch 35: val_loss did not improve from 0.01052\n",
      "52474/52474 [==============================] - 942s 18ms/step - loss: 0.0101 - val_loss: 0.0116\n",
      "Epoch 36/100\n",
      "52474/52474 [==============================] - ETA: 0s - loss: 0.0101\n",
      "Epoch 36: val_loss did not improve from 0.01052\n",
      "52474/52474 [==============================] - 948s 18ms/step - loss: 0.0101 - val_loss: 0.0108\n",
      "Epoch 37/100\n",
      "52474/52474 [==============================] - ETA: 0s - loss: 0.0100\n",
      "Epoch 37: val_loss improved from 0.01052 to 0.01042, saving model to models/seed_finder/run_1/weights.37-0.0104.hdf5\n",
      "52474/52474 [==============================] - 963s 18ms/step - loss: 0.0100 - val_loss: 0.0104\n",
      "Epoch 38/100\n",
      "52474/52474 [==============================] - ETA: 0s - loss: 0.0100\n",
      "Epoch 38: val_loss did not improve from 0.01042\n",
      "52474/52474 [==============================] - 939s 18ms/step - loss: 0.0100 - val_loss: 0.0110\n",
      "Epoch 39/100\n",
      "52474/52474 [==============================] - ETA: 0s - loss: 0.0100\n",
      "Epoch 39: val_loss did not improve from 0.01042\n",
      "52474/52474 [==============================] - 955s 18ms/step - loss: 0.0100 - val_loss: 0.0113\n",
      "Epoch 40/100\n",
      "52474/52474 [==============================] - ETA: 0s - loss: 0.0099\n",
      "Epoch 40: val_loss did not improve from 0.01042\n",
      "52474/52474 [==============================] - 998s 19ms/step - loss: 0.0099 - val_loss: 0.0106\n",
      "Epoch 41/100\n",
      "52474/52474 [==============================] - ETA: 0s - loss: 0.0099\n",
      "Epoch 41: val_loss did not improve from 0.01042\n",
      "52474/52474 [==============================] - 962s 18ms/step - loss: 0.0099 - val_loss: 0.0108\n",
      "Epoch 42/100\n",
      "52474/52474 [==============================] - ETA: 0s - loss: 0.0099\n",
      "Epoch 42: val_loss did not improve from 0.01042\n",
      "52474/52474 [==============================] - 950s 18ms/step - loss: 0.0099 - val_loss: 0.0114\n",
      "Epoch 43/100\n",
      "52474/52474 [==============================] - ETA: 0s - loss: 0.0099\n",
      "Epoch 43: val_loss did not improve from 0.01042\n",
      "52474/52474 [==============================] - 939s 18ms/step - loss: 0.0099 - val_loss: 0.0117\n",
      "Epoch 44/100\n",
      "52474/52474 [==============================] - ETA: 0s - loss: 0.0099\n",
      "Epoch 44: val_loss improved from 0.01042 to 0.01036, saving model to models/seed_finder/run_1/weights.44-0.0104.hdf5\n",
      "52474/52474 [==============================] - 942s 18ms/step - loss: 0.0099 - val_loss: 0.0104\n",
      "Epoch 45/100\n",
      "52474/52474 [==============================] - ETA: 0s - loss: 0.0098\n",
      "Epoch 45: val_loss did not improve from 0.01036\n",
      "52474/52474 [==============================] - 963s 18ms/step - loss: 0.0098 - val_loss: 0.0104\n",
      "Epoch 46/100\n",
      "20153/52474 [==========>...................] - ETA: 8:41 - loss: 0.0098"
     ]
    }
   ],
   "source": [
    "history = model.fit(Xtrain, ytrain,\n",
    "                    validation_data=(Xvalid, yvalid), \n",
    "                    epochs=100, batch_size=64, \n",
    "                    callbacks=[checkpoint, callback])"
   ]
  },
  {
   "cell_type": "code",
   "execution_count": null,
   "metadata": {},
   "outputs": [],
   "source": [
    "model.save(str(filepath))"
   ]
  },
  {
   "cell_type": "markdown",
   "metadata": {},
   "source": [
    "# Draw loss function "
   ]
  },
  {
   "cell_type": "code",
   "execution_count": null,
   "metadata": {},
   "outputs": [],
   "source": [
    "import matplotlib.pyplot as plt\n",
    "import numpy as np\n",
    "\n",
    "plt.rcParams['figure.figsize'] = (5,5)\n",
    "plt.rcParams['figure.dpi'] = 150\n",
    "\n",
    "plt.scatter(np.arange(0,100), history.history[\"loss\"], s=1., label='loss')\n",
    "plt.scatter(np.arange(0,100), history.history[\"val_loss\"], s=1., label='val_loss')\n",
    "plt.legend()\n",
    "plt.savefig(str(filepath) + '/loss_function')\n",
    "#plt.xlim(0,500)\n",
    "#plt.ylim(0.,0.01)"
   ]
  },
  {
   "cell_type": "code",
   "execution_count": null,
   "metadata": {},
   "outputs": [],
   "source": []
  }
 ],
 "metadata": {
  "kernelspec": {
   "display_name": "Python 3",
   "language": "python",
   "name": "python3"
  },
  "language_info": {
   "codemirror_mode": {
    "name": "ipython",
    "version": 3
   },
   "file_extension": ".py",
   "mimetype": "text/x-python",
   "name": "python",
   "nbconvert_exporter": "python",
   "pygments_lexer": "ipython3",
   "version": "3.9.18"
  },
  "orig_nbformat": 4
 },
 "nbformat": 4,
 "nbformat_minor": 2
}
