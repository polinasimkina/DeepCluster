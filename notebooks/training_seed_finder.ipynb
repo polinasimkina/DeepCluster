{
 "cells": [
  {
   "cell_type": "code",
   "execution_count": 1,
   "metadata": {},
   "outputs": [],
   "source": [
    "import tensorflow as tf\n",
    "from tensorflow.keras.callbacks import ModelCheckpoint\n",
    "import numpy as np\n",
    "from sklearn.utils import shuffle\n",
    "\n",
    "import sys \n",
    "sys.path.append('../src/utils/')\n",
    "sys.path.append('../src/models/')\n",
    "sys.path.append('../src/visualization/')\n",
    "\n",
    "from particles import Photon\n",
    "from seed_finder import SeedFinder\n",
    "\n",
    "%load_ext autoreload\n",
    "%autoreload 2"
   ]
  },
  {
   "cell_type": "markdown",
   "metadata": {},
   "source": [
    "# Load and prepare data for training from one- and two-particle samples"
   ]
  },
  {
   "cell_type": "code",
   "execution_count": 2,
   "metadata": {},
   "outputs": [],
   "source": [
    "photon_1 = Photon(n_pcl=1)\n",
    "photon_2 = Photon(n_pcl=2)\n",
    "\n",
    "photons = [photon_1, photon_2]"
   ]
  },
  {
   "cell_type": "code",
   "execution_count": 3,
   "metadata": {},
   "outputs": [
    {
     "name": "stderr",
     "output_type": "stream",
     "text": [
      "100%|██████████| 100000/100000 [00:19<00:00, 5255.16it/s]\n"
     ]
    },
    {
     "name": "stdout",
     "output_type": "stream",
     "text": [
      "(938472,) (938472, 7, 7, 1)\n"
     ]
    },
    {
     "name": "stderr",
     "output_type": "stream",
     "text": [
      "100%|██████████| 50000/50000 [00:12<00:00, 4007.99it/s]\n"
     ]
    },
    {
     "name": "stdout",
     "output_type": "stream",
     "text": [
      "(740676,) (740676, 7, 7, 1)\n"
     ]
    }
   ],
   "source": [
    "Xtrain, ytrain = [], []\n",
    "Xvalid, yvalid = [], []\n",
    "\n",
    "for photon in photons:\n",
    "    Xi, yi = photon.data_for_seed_finder(\"train\")\n",
    "    Xtrain.extend(Xi)\n",
    "    ytrain.extend(yi)\n",
    "\n",
    "    Xi, yi = photon.data_for_seed_finder(\"valid\")\n",
    "    Xvalid.append(Xi)\n",
    "    yvalid.append(yi)\n",
    "Xtrain, ytrain = np.array(Xtrain), np.array(ytrain)\n",
    "Xvalid, yvalid = np.array(Xvalid), np.array(yvalid)"
   ]
  },
  {
   "cell_type": "code",
   "execution_count": 4,
   "metadata": {},
   "outputs": [],
   "source": [
    "# shuffle the samples randomly\n",
    "Xvalid, ytrain = shuffle(Xtrain, ytrain, random_state=42)\n",
    "Xvalid, yvalid = shuffle(Xvalid, yvalid, random_state=42)"
   ]
  },
  {
   "cell_type": "markdown",
   "metadata": {},
   "source": [
    "# Prepare the model and training"
   ]
  },
  {
   "cell_type": "code",
   "execution_count": 7,
   "metadata": {},
   "outputs": [
    {
     "name": "stderr",
     "output_type": "stream",
     "text": [
      "WARNING:absl:At this time, the v2.11+ optimizer `tf.keras.optimizers.Adam` runs slowly on M1/M2 Macs, please use the legacy Keras optimizer instead, located at `tf.keras.optimizers.legacy.Adam`.\n"
     ]
    },
    {
     "name": "stdout",
     "output_type": "stream",
     "text": [
      "Model: \"model_1\"\n",
      "_________________________________________________________________\n",
      " Layer (type)                Output Shape              Param #   \n",
      "=================================================================\n",
      " input_2 (InputLayer)        [(None, 7, 7, 1)]         0         \n",
      "                                                                 \n",
      " conv2d_2 (Conv2D)           (None, 5, 5, 128)         1280      \n",
      "                                                                 \n",
      " conv2d_3 (Conv2D)           (None, 3, 3, 256)         295168    \n",
      "                                                                 \n",
      " flatten_1 (Flatten)         (None, 2304)              0         \n",
      "                                                                 \n",
      " dense_3 (Dense)             (None, 2400)              5532000   \n",
      "                                                                 \n",
      " dense_4 (Dense)             (None, 500)               1200500   \n",
      "                                                                 \n",
      " dense_5 (Dense)             (None, 1)                 501       \n",
      "                                                                 \n",
      "=================================================================\n",
      "Total params: 7029449 (26.82 MB)\n",
      "Trainable params: 7029449 (26.82 MB)\n",
      "Non-trainable params: 0 (0.00 Byte)\n",
      "_________________________________________________________________\n"
     ]
    }
   ],
   "source": [
    "model = SeedFinder().architecture()\n",
    "model.compile(optimizer=tf.keras.optimizers.Adam(learning_rate=0.0001), loss=tf.keras.losses.BinaryCrossentropy())\n",
    "model.summary()"
   ]
  },
  {
   "cell_type": "code",
   "execution_count": 8,
   "metadata": {},
   "outputs": [],
   "source": [
    "filepath = 'models/seed_finder/run_1/'\n",
    "\n",
    "checkpoint = ModelCheckpoint(\n",
    "        str(filepath)+\"/weights.{epoch:02d}-{val_loss:.4f}.hdf5\", \n",
    "        monitor='val_loss', verbose = 1, save_best_only = True, \n",
    "        mode='auto', save_freq='epoch')\n",
    "\n",
    "callback = tf.keras.callbacks.EarlyStopping(monitor = 'val_loss', patience = 30)"
   ]
  },
  {
   "cell_type": "code",
   "execution_count": null,
   "metadata": {},
   "outputs": [],
   "source": [
    "history = model.fit(Xtrain, ytrain,\n",
    "                    validation_data=(Xvalid, yvalid), \n",
    "                    epochs=500, batch_size=64, \n",
    "                    callbacks=[checkpoint, callback])"
   ]
  },
  {
   "cell_type": "code",
   "execution_count": null,
   "metadata": {},
   "outputs": [],
   "source": [
    "model.save(str(filepath))"
   ]
  },
  {
   "cell_type": "markdown",
   "metadata": {},
   "source": [
    "# Draw loss function "
   ]
  },
  {
   "cell_type": "markdown",
   "metadata": {},
   "source": [
    "import matplotlib.pyplot as plt\n",
    "import numpy as np\n",
    "\n",
    "plt.rcParams['figure.figsize'] = (5,5)\n",
    "plt.rcParams['figure.dpi'] = 150\n",
    "\n",
    "plt.scatter(np.arange(0,500), history.history[\"loss\"], s=1., label='loss')\n",
    "plt.scatter(np.arange(0,500), history.history[\"val_loss\"], s=1., label='val_loss')\n",
    "plt.legend()\n",
    "plt.savefig(str(filepath) + '/loss_function')\n",
    "#plt.xlim(0,500)\n",
    "#plt.ylim(0.,0.01)"
   ]
  }
 ],
 "metadata": {
  "kernelspec": {
   "display_name": "Python 3",
   "language": "python",
   "name": "python3"
  },
  "language_info": {
   "codemirror_mode": {
    "name": "ipython",
    "version": 3
   },
   "file_extension": ".py",
   "mimetype": "text/x-python",
   "name": "python",
   "nbconvert_exporter": "python",
   "pygments_lexer": "ipython3",
   "version": "3.10.12"
  },
  "orig_nbformat": 4
 },
 "nbformat": 4,
 "nbformat_minor": 2
}
