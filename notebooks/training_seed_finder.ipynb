{
 "cells": [
  {
   "cell_type": "code",
   "execution_count": 1,
   "metadata": {},
   "outputs": [],
   "source": [
    "import tensorflow as tf\n",
    "from tensorflow.keras.callbacks import ModelCheckpoint\n",
    "import numpy as np\n",
    "from sklearn.utils import shuffle\n",
    "\n",
    "import sys \n",
    "sys.path.append('../src/utils/')\n",
    "sys.path.append('../src/models/')\n",
    "sys.path.append('../src/visualization/')\n",
    "\n",
    "from particles import Photon\n",
    "from seed_finder import SeedFinder\n",
    "\n",
    "%load_ext autoreload\n",
    "%autoreload 2"
   ]
  },
  {
   "cell_type": "markdown",
   "metadata": {},
   "source": [
    "# Load and prepare data for training from one- and two-particle samples"
   ]
  },
  {
   "cell_type": "code",
   "execution_count": 2,
   "metadata": {},
   "outputs": [],
   "source": [
    "photon_1 = Photon(n_pcl=1)\n",
    "photon_2 = Photon(n_pcl=2)\n",
    "\n",
    "photons = [photon_1, photon_2]"
   ]
  },
  {
   "cell_type": "code",
   "execution_count": 3,
   "metadata": {},
   "outputs": [
    {
     "name": "stderr",
     "output_type": "stream",
     "text": [
      "100%|██████████| 200000/200000 [00:39<00:00, 5066.20it/s]\n",
      "100%|██████████| 100000/100000 [00:19<00:00, 5162.14it/s]\n",
      "100%|██████████| 100000/100000 [00:25<00:00, 3846.60it/s]\n",
      "100%|██████████| 50000/50000 [00:12<00:00, 3924.02it/s]\n"
     ]
    }
   ],
   "source": [
    "Xtrain, ytrain = [], []\n",
    "Xvalid, yvalid = [], []\n",
    "\n",
    "for photon in photons:\n",
    "    Xi, yi = photon.data_for_seed_finder(\"valid\")\n",
    "    Xtrain.extend(Xi)\n",
    "    ytrain.extend(yi)\n",
    "\n",
    "    Xi, yi = photon.data_for_seed_finder(\"test\")\n",
    "    Xvalid.extend(Xi)\n",
    "    yvalid.extend(yi)\n",
    "Xtrain, ytrain = np.array(Xtrain), np.array(ytrain)\n",
    "Xvalid, yvalid = np.array(Xvalid), np.array(yvalid)"
   ]
  },
  {
   "cell_type": "code",
   "execution_count": 4,
   "metadata": {},
   "outputs": [],
   "source": [
    "# shuffle the samples randomly\n",
    "Xtrain, ytrain = shuffle(Xtrain, ytrain, random_state=42)\n",
    "Xvalid, yvalid = shuffle(Xvalid, yvalid, random_state=42)"
   ]
  },
  {
   "cell_type": "markdown",
   "metadata": {},
   "source": [
    "# Prepare the model and training"
   ]
  },
  {
   "cell_type": "code",
   "execution_count": 5,
   "metadata": {},
   "outputs": [
    {
     "name": "stderr",
     "output_type": "stream",
     "text": [
      "2024-01-12 14:26:11.293538: I metal_plugin/src/device/metal_device.cc:1154] Metal device set to: Apple M2\n",
      "2024-01-12 14:26:11.294163: I metal_plugin/src/device/metal_device.cc:296] systemMemory: 8.00 GB\n",
      "2024-01-12 14:26:11.294453: I metal_plugin/src/device/metal_device.cc:313] maxCacheSize: 2.67 GB\n",
      "2024-01-12 14:26:11.294708: I tensorflow/core/common_runtime/pluggable_device/pluggable_device_factory.cc:306] Could not identify NUMA node of platform GPU ID 0, defaulting to 0. Your kernel may not have been built with NUMA support.\n",
      "2024-01-12 14:26:11.295156: I tensorflow/core/common_runtime/pluggable_device/pluggable_device_factory.cc:272] Created TensorFlow device (/job:localhost/replica:0/task:0/device:GPU:0 with 0 MB memory) -> physical PluggableDevice (device: 0, name: METAL, pci bus id: <undefined>)\n",
      "WARNING:absl:At this time, the v2.11+ optimizer `tf.keras.optimizers.Adam` runs slowly on M1/M2 Macs, please use the legacy Keras optimizer instead, located at `tf.keras.optimizers.legacy.Adam`.\n"
     ]
    },
    {
     "name": "stdout",
     "output_type": "stream",
     "text": [
      "Model: \"model\"\n",
      "_________________________________________________________________\n",
      " Layer (type)                Output Shape              Param #   \n",
      "=================================================================\n",
      " input_1 (InputLayer)        [(None, 7, 7, 1)]         0         \n",
      "                                                                 \n",
      " conv2d (Conv2D)             (None, 5, 5, 128)         1280      \n",
      "                                                                 \n",
      " conv2d_1 (Conv2D)           (None, 3, 3, 256)         295168    \n",
      "                                                                 \n",
      " flatten (Flatten)           (None, 2304)              0         \n",
      "                                                                 \n",
      " dense (Dense)               (None, 2400)              5532000   \n",
      "                                                                 \n",
      " dense_1 (Dense)             (None, 500)               1200500   \n",
      "                                                                 \n",
      " dense_2 (Dense)             (None, 1)                 501       \n",
      "                                                                 \n",
      "=================================================================\n",
      "Total params: 7029449 (26.82 MB)\n",
      "Trainable params: 7029449 (26.82 MB)\n",
      "Non-trainable params: 0 (0.00 Byte)\n",
      "_________________________________________________________________\n"
     ]
    }
   ],
   "source": [
    "model = SeedFinder().architecture()\n",
    "model.compile(optimizer=tf.keras.optimizers.Adam(learning_rate=0.0001), loss=tf.keras.losses.BinaryCrossentropy())\n",
    "model.summary()"
   ]
  },
  {
   "cell_type": "code",
   "execution_count": 6,
   "metadata": {},
   "outputs": [],
   "source": [
    "filepath = 'models/seed_finder/run_3/'\n",
    "\n",
    "checkpoint = ModelCheckpoint(\n",
    "        str(filepath)+\"/weights.{epoch:02d}-{val_loss:.4f}.hdf5\", \n",
    "        monitor='val_loss', verbose = 1, save_best_only = True, \n",
    "        mode='auto', save_freq='epoch')\n",
    "\n",
    "callback = tf.keras.callbacks.EarlyStopping(monitor = 'val_loss', patience = 30)"
   ]
  },
  {
   "cell_type": "markdown",
   "metadata": {},
   "source": [
    "# Model training"
   ]
  },
  {
   "cell_type": "code",
   "execution_count": 7,
   "metadata": {},
   "outputs": [
    {
     "name": "stdout",
     "output_type": "stream",
     "text": [
      "Epoch 1/30\n"
     ]
    },
    {
     "name": "stderr",
     "output_type": "stream",
     "text": [
      "2024-01-12 14:26:14.894759: I tensorflow/core/grappler/optimizers/custom_graph_optimizer_registry.cc:117] Plugin optimizer for device_type GPU is enabled.\n",
      "2024-01-12 14:26:14.958248: E tensorflow/core/grappler/optimizers/meta_optimizer.cc:961] model_pruner failed: INVALID_ARGUMENT: Graph does not contain terminal node Adam/AssignAddVariableOp.\n"
     ]
    },
    {
     "name": "stdout",
     "output_type": "stream",
     "text": [
      "52483/52483 [==============================] - ETA: 0s - loss: 0.0250\n",
      "Epoch 1: val_loss improved from inf to 0.01933, saving model to models/seed_finder/run_3/weights.01-0.0193.hdf5\n"
     ]
    },
    {
     "name": "stderr",
     "output_type": "stream",
     "text": [
      "/Users/polinasimkina/miniconda3/envs/envdeep/lib/python3.9/site-packages/keras/src/engine/training.py:3103: UserWarning: You are saving your model as an HDF5 file via `model.save()`. This file format is considered legacy. We recommend using instead the native Keras format, e.g. `model.save('my_model.keras')`.\n",
      "  saving_api.save_model(\n"
     ]
    },
    {
     "name": "stdout",
     "output_type": "stream",
     "text": [
      "52483/52483 [==============================] - 1000s 19ms/step - loss: 0.0250 - val_loss: 0.0193\n",
      "Epoch 2/30\n",
      "52483/52483 [==============================] - ETA: 0s - loss: 0.0182\n",
      "Epoch 2: val_loss improved from 0.01933 to 0.01824, saving model to models/seed_finder/run_3/weights.02-0.0182.hdf5\n",
      "52483/52483 [==============================] - 995s 19ms/step - loss: 0.0182 - val_loss: 0.0182\n",
      "Epoch 3/30\n",
      "52483/52483 [==============================] - ETA: 0s - loss: 0.0161\n",
      "Epoch 3: val_loss improved from 0.01824 to 0.01543, saving model to models/seed_finder/run_3/weights.03-0.0154.hdf5\n",
      "52483/52483 [==============================] - 942s 18ms/step - loss: 0.0161 - val_loss: 0.0154\n",
      "Epoch 4/30\n",
      "52483/52483 [==============================] - ETA: 0s - loss: 0.0148\n",
      "Epoch 4: val_loss improved from 0.01543 to 0.01437, saving model to models/seed_finder/run_3/weights.04-0.0144.hdf5\n",
      "52483/52483 [==============================] - 943s 18ms/step - loss: 0.0148 - val_loss: 0.0144\n",
      "Epoch 5/30\n",
      "52483/52483 [==============================] - ETA: 0s - loss: 0.0139\n",
      "Epoch 5: val_loss improved from 0.01437 to 0.01330, saving model to models/seed_finder/run_3/weights.05-0.0133.hdf5\n",
      "52483/52483 [==============================] - 944s 18ms/step - loss: 0.0139 - val_loss: 0.0133\n",
      "Epoch 6/30\n",
      "52483/52483 [==============================] - ETA: 0s - loss: 0.0133\n",
      "Epoch 6: val_loss did not improve from 0.01330\n",
      "52483/52483 [==============================] - 952s 18ms/step - loss: 0.0133 - val_loss: 0.0146\n",
      "Epoch 7/30\n",
      "52483/52483 [==============================] - ETA: 0s - loss: 0.0128\n",
      "Epoch 7: val_loss improved from 0.01330 to 0.01282, saving model to models/seed_finder/run_3/weights.07-0.0128.hdf5\n",
      "52483/52483 [==============================] - 970s 18ms/step - loss: 0.0128 - val_loss: 0.0128\n",
      "Epoch 8/30\n",
      "52483/52483 [==============================] - ETA: 0s - loss: 0.0124\n",
      "Epoch 8: val_loss improved from 0.01282 to 0.01215, saving model to models/seed_finder/run_3/weights.08-0.0121.hdf5\n",
      "52483/52483 [==============================] - 934s 18ms/step - loss: 0.0124 - val_loss: 0.0121\n",
      "Epoch 9/30\n",
      "52483/52483 [==============================] - ETA: 0s - loss: 0.0122\n",
      "Epoch 9: val_loss did not improve from 0.01215\n",
      "52483/52483 [==============================] - 981s 19ms/step - loss: 0.0122 - val_loss: 0.0124\n",
      "Epoch 10/30\n",
      "52483/52483 [==============================] - ETA: 0s - loss: 0.0120\n",
      "Epoch 10: val_loss did not improve from 0.01215\n",
      "52483/52483 [==============================] - 988s 19ms/step - loss: 0.0120 - val_loss: 0.0127\n",
      "Epoch 11/30\n",
      "52483/52483 [==============================] - ETA: 0s - loss: 0.0118\n",
      "Epoch 11: val_loss did not improve from 0.01215\n",
      "52483/52483 [==============================] - 989s 19ms/step - loss: 0.0118 - val_loss: 0.0147\n",
      "Epoch 12/30\n",
      "52483/52483 [==============================] - ETA: 0s - loss: 0.0116\n",
      "Epoch 12: val_loss improved from 0.01215 to 0.01206, saving model to models/seed_finder/run_3/weights.12-0.0121.hdf5\n",
      "52483/52483 [==============================] - 989s 19ms/step - loss: 0.0116 - val_loss: 0.0121\n",
      "Epoch 13/30\n",
      "52483/52483 [==============================] - ETA: 0s - loss: 0.0115\n",
      "Epoch 13: val_loss did not improve from 0.01206\n",
      "52483/52483 [==============================] - 948s 18ms/step - loss: 0.0115 - val_loss: 0.0159\n",
      "Epoch 14/30\n",
      "52483/52483 [==============================] - ETA: 0s - loss: 0.0114\n",
      "Epoch 14: val_loss did not improve from 0.01206\n",
      "52483/52483 [==============================] - 927s 18ms/step - loss: 0.0114 - val_loss: 0.0124\n",
      "Epoch 15/30\n",
      "52483/52483 [==============================] - ETA: 0s - loss: 0.0112\n",
      "Epoch 15: val_loss did not improve from 0.01206\n",
      "52483/52483 [==============================] - 935s 18ms/step - loss: 0.0112 - val_loss: 0.0122\n",
      "Epoch 16/30\n",
      "52483/52483 [==============================] - ETA: 0s - loss: 0.0111\n",
      "Epoch 16: val_loss did not improve from 0.01206\n",
      "52483/52483 [==============================] - 972s 19ms/step - loss: 0.0111 - val_loss: 0.0121\n",
      "Epoch 17/30\n",
      "52483/52483 [==============================] - ETA: 0s - loss: 0.0111\n",
      "Epoch 17: val_loss improved from 0.01206 to 0.01116, saving model to models/seed_finder/run_3/weights.17-0.0112.hdf5\n",
      "52483/52483 [==============================] - 969s 18ms/step - loss: 0.0111 - val_loss: 0.0112\n",
      "Epoch 18/30\n",
      "52483/52483 [==============================] - ETA: 0s - loss: 0.0110\n",
      "Epoch 18: val_loss did not improve from 0.01116\n",
      "52483/52483 [==============================] - 943s 18ms/step - loss: 0.0110 - val_loss: 0.0112\n",
      "Epoch 19/30\n",
      "52483/52483 [==============================] - ETA: 0s - loss: 0.0109\n",
      "Epoch 19: val_loss did not improve from 0.01116\n",
      "52483/52483 [==============================] - 938s 18ms/step - loss: 0.0109 - val_loss: 0.0115\n",
      "Epoch 20/30\n",
      "52483/52483 [==============================] - ETA: 0s - loss: 0.0108\n",
      "Epoch 20: val_loss did not improve from 0.01116\n",
      "52483/52483 [==============================] - 943s 18ms/step - loss: 0.0108 - val_loss: 0.0120\n",
      "Epoch 21/30\n",
      "52483/52483 [==============================] - ETA: 0s - loss: 0.0107\n",
      "Epoch 21: val_loss improved from 0.01116 to 0.01096, saving model to models/seed_finder/run_3/weights.21-0.0110.hdf5\n",
      "52483/52483 [==============================] - 950s 18ms/step - loss: 0.0107 - val_loss: 0.0110\n",
      "Epoch 22/30\n",
      "52483/52483 [==============================] - ETA: 0s - loss: 0.0107\n",
      "Epoch 22: val_loss did not improve from 0.01096\n",
      "52483/52483 [==============================] - 935s 18ms/step - loss: 0.0107 - val_loss: 0.0144\n",
      "Epoch 23/30\n",
      "52483/52483 [==============================] - ETA: 0s - loss: 0.0106\n",
      "Epoch 23: val_loss did not improve from 0.01096\n",
      "52483/52483 [==============================] - 932s 18ms/step - loss: 0.0106 - val_loss: 0.0119\n",
      "Epoch 24/30\n",
      "52483/52483 [==============================] - ETA: 0s - loss: 0.0106\n",
      "Epoch 24: val_loss did not improve from 0.01096\n",
      "52483/52483 [==============================] - 930s 18ms/step - loss: 0.0106 - val_loss: 0.0111\n",
      "Epoch 25/30\n",
      "52483/52483 [==============================] - ETA: 0s - loss: 0.0105\n",
      "Epoch 25: val_loss improved from 0.01096 to 0.01074, saving model to models/seed_finder/run_3/weights.25-0.0107.hdf5\n",
      "52483/52483 [==============================] - 981s 19ms/step - loss: 0.0105 - val_loss: 0.0107\n",
      "Epoch 26/30\n",
      "52483/52483 [==============================] - ETA: 0s - loss: 0.0105\n",
      "Epoch 26: val_loss did not improve from 0.01074\n",
      "52483/52483 [==============================] - 1003s 19ms/step - loss: 0.0105 - val_loss: 0.0108\n",
      "Epoch 27/30\n",
      "52483/52483 [==============================] - ETA: 0s - loss: 0.0105\n",
      "Epoch 27: val_loss improved from 0.01074 to 0.01053, saving model to models/seed_finder/run_3/weights.27-0.0105.hdf5\n",
      "52483/52483 [==============================] - 995s 19ms/step - loss: 0.0105 - val_loss: 0.0105\n",
      "Epoch 28/30\n",
      "52483/52483 [==============================] - ETA: 0s - loss: 0.0104\n",
      "Epoch 28: val_loss did not improve from 0.01053\n",
      "52483/52483 [==============================] - 987s 19ms/step - loss: 0.0104 - val_loss: 0.0106\n",
      "Epoch 29/30\n",
      "52483/52483 [==============================] - ETA: 0s - loss: 0.0103\n",
      "Epoch 29: val_loss did not improve from 0.01053\n",
      "52483/52483 [==============================] - 4260s 81ms/step - loss: 0.0103 - val_loss: 0.0118\n",
      "Epoch 30/30\n",
      "52483/52483 [==============================] - ETA: 0s - loss: 0.0103\n",
      "Epoch 30: val_loss did not improve from 0.01053\n",
      "52483/52483 [==============================] - 930s 18ms/step - loss: 0.0103 - val_loss: 0.0120\n"
     ]
    }
   ],
   "source": [
    "history = model.fit(Xtrain, ytrain,\n",
    "                    validation_data=(Xvalid, yvalid), \n",
    "                    epochs=30, batch_size=64, \n",
    "                    callbacks=[checkpoint, callback])"
   ]
  },
  {
   "cell_type": "code",
   "execution_count": 8,
   "metadata": {},
   "outputs": [
    {
     "name": "stdout",
     "output_type": "stream",
     "text": [
      "INFO:tensorflow:Assets written to: models/seed_finder/run_3/assets\n"
     ]
    },
    {
     "name": "stderr",
     "output_type": "stream",
     "text": [
      "INFO:tensorflow:Assets written to: models/seed_finder/run_3/assets\n"
     ]
    }
   ],
   "source": [
    "model.save(str(filepath))"
   ]
  },
  {
   "cell_type": "markdown",
   "metadata": {},
   "source": [
    "# Draw loss function "
   ]
  },
  {
   "cell_type": "code",
   "execution_count": 9,
   "metadata": {},
   "outputs": [
    {
     "data": {
      "image/png": "[encoded data removed]",
      "text/plain": [
       "<Figure size 750x750 with 1 Axes>"
      ]
     },
     "metadata": {},
     "output_type": "display_data"
    }
   ],
   "source": [
    "import matplotlib.pyplot as plt\n",
    "import numpy as np\n",
    "\n",
    "plt.rcParams['figure.figsize'] = (5,5)\n",
    "plt.rcParams['figure.dpi'] = 150\n",
    "\n",
    "plt.scatter(np.arange(0,30), history.history[\"loss\"], s=1., label='loss')\n",
    "plt.scatter(np.arange(0,30), history.history[\"val_loss\"], s=1., label='val_loss')\n",
    "plt.legend()\n",
    "plt.savefig(str(filepath) + '/loss_function')\n",
    "#plt.xlim(0,500)\n",
    "#plt.ylim(0.,0.01)"
   ]
  },
  {
   "cell_type": "code",
   "execution_count": null,
   "metadata": {},
   "outputs": [],
   "source": []
  }
 ],
 "metadata": {
  "kernelspec": {
   "display_name": "Python 3",
   "language": "python",
   "name": "python3"
  },
  "language_info": {
   "codemirror_mode": {
    "name": "ipython",
    "version": 3
   },
   "file_extension": ".py",
   "mimetype": "text/x-python",
   "name": "python",
   "nbconvert_exporter": "python",
   "pygments_lexer": "ipython3",
   "version": "3.9.18"
  },
  "orig_nbformat": 4
 },
 "nbformat": 4,
 "nbformat_minor": 2
}
