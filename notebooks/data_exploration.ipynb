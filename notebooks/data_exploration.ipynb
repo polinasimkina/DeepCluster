{
 "cells": [
  {
   "cell_type": "code",
   "execution_count": 1,
   "metadata": {},
   "outputs": [
    {
     "name": "stderr",
     "output_type": "stream",
     "text": [
      "/Users/polinasimkina/miniconda3/envs/envdeep/lib/python3.9/site-packages/tensorflow_addons/utils/tfa_eol_msg.py:23: UserWarning: \n",
      "\n",
      "TensorFlow Addons (TFA) has ended development and introduction of new features.\n",
      "TFA has entered a minimal maintenance and release mode until a planned end of life in May 2024.\n",
      "Please modify downstream libraries to take dependencies from other repositories in our TensorFlow community (e.g. Keras, Keras-CV, and Keras-NLP). \n",
      "\n",
      "For more information see: https://github.com/tensorflow/addons/issues/2807 \n",
      "\n",
      "  warnings.warn(\n"
     ]
    }
   ],
   "source": [
    "import sys \n",
    "sys.path.append('../src/utils/')\n",
    "sys.path.append('../src/visualization/')\n",
    "sys.path.append('../src/models/')\n",
    "\n",
    "from particles import *\n",
    "from plots import *\n",
    "\n",
    "%load_ext autoreload\n",
    "%autoreload 2"
   ]
  },
  {
   "cell_type": "code",
   "execution_count": 56,
   "metadata": {},
   "outputs": [
    {
     "name": "stderr",
     "output_type": "stream",
     "text": [
      "100%|██████████| 100000/100000 [00:19<00:00, 5106.21it/s]\n"
     ]
    }
   ],
   "source": [
    "photon = Photon()\n",
    "model_vars = photon.load_and_prepare_data(data_type=\"test\")"
   ]
  },
  {
   "cell_type": "code",
   "execution_count": 79,
   "metadata": {},
   "outputs": [],
   "source": [
    "X, ind, seed, y, en  = model_vars"
   ]
  },
  {
   "cell_type": "code",
   "execution_count": 87,
   "metadata": {},
   "outputs": [
    {
     "data": {
      "text/plain": [
       "array([[    1,     6],\n",
       "       [    2,     5],\n",
       "       [    7,     4],\n",
       "       ...,\n",
       "       [99929,     2],\n",
       "       [99930,     6],\n",
       "       [99931,     8]])"
      ]
     },
     "execution_count": 87,
     "metadata": {},
     "output_type": "execute_result"
    }
   ],
   "source": [
    "np.argwhere(en > 50)"
   ]
  },
  {
   "cell_type": "code",
   "execution_count": 88,
   "metadata": {},
   "outputs": [],
   "source": [
    "n = 1"
   ]
  },
  {
   "cell_type": "code",
   "execution_count": 89,
   "metadata": {},
   "outputs": [],
   "source": [
    "xzoom = X[n][6]"
   ]
  },
  {
   "cell_type": "code",
   "execution_count": 102,
   "metadata": {},
   "outputs": [
    {
     "data": {
      "text/plain": [
       "array([[ 0.      ,  0.      ],\n",
       "       [ 0.      ,  0.      ],\n",
       "       [ 0.      ,  0.      ],\n",
       "       [ 0.      ,  0.      ],\n",
       "       [ 0.      ,  0.      ],\n",
       "       [37.556023, 10.107953],\n",
       "       [37.556023, 10.107953],\n",
       "       [ 0.      ,  0.      ],\n",
       "       [ 0.      ,  0.      ],\n",
       "       [ 0.      ,  0.      ],\n",
       "       [ 0.      ,  0.      ],\n",
       "       [ 0.      ,  0.      ],\n",
       "       [ 0.      ,  0.      ],\n",
       "       [-1.      , -1.      ],\n",
       "       [-1.      , -1.      ],\n",
       "       [-1.      , -1.      ],\n",
       "       [-1.      , -1.      ],\n",
       "       [-1.      , -1.      ],\n",
       "       [-1.      , -1.      ],\n",
       "       [-1.      , -1.      ],\n",
       "       [-1.      , -1.      ],\n",
       "       [-1.      , -1.      ],\n",
       "       [-1.      , -1.      ],\n",
       "       [-1.      , -1.      ],\n",
       "       [-1.      , -1.      ],\n",
       "       [-1.      , -1.      ],\n",
       "       [-1.      , -1.      ],\n",
       "       [-1.      , -1.      ],\n",
       "       [-1.      , -1.      ],\n",
       "       [-1.      , -1.      ],\n",
       "       [-1.      , -1.      ],\n",
       "       [-1.      , -1.      ],\n",
       "       [-1.      , -1.      ],\n",
       "       [-1.      , -1.      ],\n",
       "       [-1.      , -1.      ]], dtype=float32)"
      ]
     },
     "execution_count": 102,
     "metadata": {},
     "output_type": "execute_result"
    }
   ],
   "source": [
    "y[n]"
   ]
  },
  {
   "cell_type": "code",
   "execution_count": 109,
   "metadata": {},
   "outputs": [
    {
     "data": {
      "text/plain": [
       "(10.107953, 10)"
      ]
     },
     "execution_count": 109,
     "metadata": {},
     "output_type": "execute_result"
    }
   ],
   "source": [
    "y[n,6,1], ind[n,6, 1]"
   ]
  },
  {
   "cell_type": "code",
   "execution_count": 117,
   "metadata": {},
   "outputs": [],
   "source": [
    "yzoom = y - ind + 3."
   ]
  },
  {
   "cell_type": "code",
   "execution_count": 129,
   "metadata": {},
   "outputs": [
    {
     "data": {
      "text/plain": [
       "<matplotlib.legend.Legend at 0x17b5b7f70>"
      ]
     },
     "execution_count": 129,
     "metadata": {},
     "output_type": "execute_result"
    },
    {
     "data": {
      "image/png": "[encoded data removed]",
      "text/plain": [
       "<Figure size 600x500 with 2 Axes>"
      ]
     },
     "metadata": {},
     "output_type": "display_data"
    }
   ],
   "source": [
    "import matplotlib.pyplot as plt\n",
    "fig, ax = plt.subplots(figsize=(6, 5))    \n",
    "import matplotlib.colors as colors\n",
    "\n",
    "yi, xi = np.mgrid[slice(0, xzoom.shape[0] + 1, 1), slice(0, xzoom.shape[1] + 1, 1)]\n",
    "eb = ax.pcolormesh(xi, yi, xzoom, cmap=\"viridis\",  norm=colors.LogNorm())\n",
    "\n",
    "ax.tick_params(axis='both', which='major', labelsize=12)\n",
    "\n",
    "\n",
    "    # plotting\n",
    "cbar = plt.colorbar(eb, ax=ax)\n",
    "cbar.ax.tick_params(labelsize=12)\n",
    "cbar.set_label('$E$ [GeV]', fontsize=12)\n",
    "ax.scatter(yzoom[n, 6, 1], yzoom[n, 6, 0], c=\"darkred\", marker=\"*\", s=70, label=\"generated\")\n",
    "ax.legend(fontsize=15)"
   ]
  },
  {
   "cell_type": "code",
   "execution_count": 154,
   "metadata": {},
   "outputs": [],
   "source": [
    "xzoom = X[20][5]"
   ]
  },
  {
   "cell_type": "code",
   "execution_count": 155,
   "metadata": {},
   "outputs": [
    {
     "data": {
      "image/png": "[encoded data removed]",
      "text/plain": [
       "<Figure size 500x500 with 1 Axes>"
      ]
     },
     "metadata": {},
     "output_type": "display_data"
    }
   ],
   "source": [
    "import matplotlib.pyplot as plt\n",
    "fig, ax = plt.subplots(figsize=(5, 5))    \n",
    "import matplotlib.colors as colors\n",
    "\n",
    "yi, xi = np.mgrid[slice(0, xzoom.shape[0] + 1, 1), slice(0, xzoom.shape[1] + 1, 1)]\n",
    "eb = ax.pcolormesh(xi, yi, xzoom, cmap=\"viridis\",  norm=colors.LogNorm())\n",
    "\n",
    "#ax.tick_params(axis='both', which='major',)\n",
    "\n",
    "\n",
    "    # plotting\n",
    "#cbar = plt.colorbar(eb, ax=ax)\n",
    "#cbar.ax.tick_params(labelsize=12)\n",
    "#cbar.set_label('$E$ [GeV]', fontsize=12)\n",
    "#ax.scatter(yzoom[n, 6, 1], yzoom[n, 6, 0], c=\"darkred\", marker=\"*\", s=70, label=\"generated\")\n",
    "#ax.legend(fontsize=15)"
   ]
  },
  {
   "cell_type": "code",
   "execution_count": 6,
   "metadata": {},
   "outputs": [
    {
     "name": "stderr",
     "output_type": "stream",
     "text": [
      " 69%|██████▊   | 68748/100000 [00:13<00:06, 5073.43it/s]\n"
     ]
    },
    {
     "ename": "KeyboardInterrupt",
     "evalue": "",
     "output_type": "error",
     "traceback": [
      "\u001b[0;31m---------------------------------------------------------------------------\u001b[0m",
      "\u001b[0;31mKeyboardInterrupt\u001b[0m                         Traceback (most recent call last)",
      "Cell \u001b[0;32mIn[6], line 1\u001b[0m\n\u001b[0;32m----> 1\u001b[0m model_variables \u001b[39m=\u001b[39m photon\u001b[39m.\u001b[39;49mload_and_prepare_data(data_type\u001b[39m=\u001b[39;49m\u001b[39m\"\u001b[39;49m\u001b[39mtest\u001b[39;49m\u001b[39m\"\u001b[39;49m)\n",
      "File \u001b[0;32m~/DeepCluster/notebooks/../src/utils/particles.py:61\u001b[0m, in \u001b[0;36mParticle.load_and_prepare_data\u001b[0;34m(self, data_type)\u001b[0m\n\u001b[1;32m     59\u001b[0m X, y, en \u001b[39m=\u001b[39m \u001b[39mself\u001b[39m\u001b[39m.\u001b[39mload_data(data_type\u001b[39m=\u001b[39mdata_type)\n\u001b[1;32m     60\u001b[0m X \u001b[39m=\u001b[39m apply_noise(X)\n\u001b[0;32m---> 61\u001b[0m model_variables \u001b[39m=\u001b[39m get_model_samples(X, y, en)\n\u001b[1;32m     62\u001b[0m \u001b[39mreturn\u001b[39;00m model_variables\n",
      "File \u001b[0;32m~/DeepCluster/notebooks/../src/utils/data_preprocessing.py:102\u001b[0m, in \u001b[0;36mget_model_samples\u001b[0;34m(X, y, en, crop_size, threshold)\u001b[0m\n\u001b[1;32m     99\u001b[0m n_pcl \u001b[39m=\u001b[39m y\u001b[39m.\u001b[39mshape[\u001b[39m1\u001b[39m]\n\u001b[1;32m    101\u001b[0m \u001b[39mfor\u001b[39;00m i, (X, y, en) \u001b[39min\u001b[39;00m tqdm(\u001b[39menumerate\u001b[39m(\u001b[39mzip\u001b[39m(X, y, en)), total\u001b[39m=\u001b[39mX\u001b[39m.\u001b[39mshape[\u001b[39m0\u001b[39m]):\n\u001b[0;32m--> 102\u001b[0m     Xi, indi, is_seedi, yi, eni \u001b[39m=\u001b[39m get_window(X, y, en)\n\u001b[1;32m    104\u001b[0m     \u001b[39m# don't include the samples where two seeds fall into one crystal\u001b[39;00m\n\u001b[1;32m    105\u001b[0m     \u001b[39mif\u001b[39;00m np\u001b[39m.\u001b[39msum(is_seedi) \u001b[39m!=\u001b[39m n_pcl:\n",
      "File \u001b[0;32m~/DeepCluster/notebooks/../src/utils/data_preprocessing.py:76\u001b[0m, in \u001b[0;36mget_window\u001b[0;34m(X, y, en, crop_size, threshold)\u001b[0m\n\u001b[1;32m     74\u001b[0m         \u001b[39m# add the true coordinates (1 crystal away) and energies (same crystal) to the lists, if none - add 0 instead\u001b[39;00m\n\u001b[1;32m     75\u001b[0m         y_crop\u001b[39m.\u001b[39mappend(y[arg_coord][\u001b[39m0\u001b[39m] \u001b[39mif\u001b[39;00m \u001b[39mlen\u001b[39m(arg_coord[\u001b[39m0\u001b[39m]) \u001b[39melse\u001b[39;00m y[\u001b[39m0\u001b[39m] \u001b[39m*\u001b[39m \u001b[39m0.0\u001b[39m)\n\u001b[0;32m---> 76\u001b[0m         en_crop\u001b[39m.\u001b[39mappend(en[arg_seed][\u001b[39m0\u001b[39m] \u001b[39mif\u001b[39;00m \u001b[39mlen\u001b[39m(arg_seed[\u001b[39m0\u001b[39m]) \u001b[39melse\u001b[39;00m en[\u001b[39m0\u001b[39;49m] \u001b[39m*\u001b[39;49m \u001b[39m0.0\u001b[39;49m)\n\u001b[1;32m     78\u001b[0m \u001b[39mreturn\u001b[39;00m X_crop, indices, is_seed, y_crop, en_crop\n",
      "\u001b[0;31mKeyboardInterrupt\u001b[0m: "
     ]
    }
   ],
   "source": [
    "model_variables = photon.load_and_prepare_data(data_type=\"test\")"
   ]
  },
  {
   "cell_type": "code",
   "execution_count": 34,
   "metadata": {},
   "outputs": [
    {
     "data": {
      "text/plain": [
       "(99919, 35, 7, 7)"
      ]
     },
     "execution_count": 34,
     "metadata": {},
     "output_type": "execute_result"
    }
   ],
   "source": [
    "model_variables[0].shape"
   ]
  },
  {
   "cell_type": "code",
   "execution_count": 36,
   "metadata": {},
   "outputs": [],
   "source": [
    "photon = Photon(2)\n",
    "X, y, en = photon.load_data(type=\"test\")"
   ]
  },
  {
   "cell_type": "code",
   "execution_count": 39,
   "metadata": {},
   "outputs": [
    {
     "name": "stderr",
     "output_type": "stream",
     "text": [
      "100%|██████████| 50000/50000 [00:13<00:00, 3772.94it/s]\n"
     ]
    }
   ],
   "source": [
    "model_variables = photon.load_and_prepare_data(type=\"test\")"
   ]
  },
  {
   "cell_type": "code",
   "execution_count": 38,
   "metadata": {},
   "outputs": [
    {
     "data": {
      "text/plain": [
       "(47799, 35, 7, 7)"
      ]
     },
     "execution_count": 38,
     "metadata": {},
     "output_type": "execute_result"
    }
   ],
   "source": [
    "model_variables[0].shape"
   ]
  },
  {
   "cell_type": "code",
   "execution_count": null,
   "metadata": {},
   "outputs": [],
   "source": []
  }
 ],
 "metadata": {
  "kernelspec": {
   "display_name": "Python 3",
   "language": "python",
   "name": "python3"
  },
  "language_info": {
   "codemirror_mode": {
    "name": "ipython",
    "version": 3
   },
   "file_extension": ".py",
   "mimetype": "text/x-python",
   "name": "python",
   "nbconvert_exporter": "python",
   "pygments_lexer": "ipython3",
   "version": "3.9.18"
  },
  "orig_nbformat": 4
 },
 "nbformat": 4,
 "nbformat_minor": 2
}
