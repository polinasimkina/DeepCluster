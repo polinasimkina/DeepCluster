{
 "cells": [
  {
   "cell_type": "code",
   "execution_count": 1,
   "metadata": {},
   "outputs": [
    {
     "name": "stderr",
     "output_type": "stream",
     "text": [
      "/Users/polinasimkina/miniconda3/envs/envdeep/lib/python3.9/site-packages/tensorflow_addons/utils/tfa_eol_msg.py:23: UserWarning: \n",
      "\n",
      "TensorFlow Addons (TFA) has ended development and introduction of new features.\n",
      "TFA has entered a minimal maintenance and release mode until a planned end of life in May 2024.\n",
      "Please modify downstream libraries to take dependencies from other repositories in our TensorFlow community (e.g. Keras, Keras-CV, and Keras-NLP). \n",
      "\n",
      "For more information see: https://github.com/tensorflow/addons/issues/2807 \n",
      "\n",
      "  warnings.warn(\n"
     ]
    }
   ],
   "source": [
    "import tensorflow as tf\n",
    "from tensorflow.keras.callbacks import ModelCheckpoint\n",
    "import tensorflow_addons as tfa\n",
    "import numpy as np\n",
    "from sklearn.utils import shuffle\n",
    "\n",
    "import sys \n",
    "sys.path.append('../src/utils/')\n",
    "sys.path.append('../src/models/')\n",
    "sys.path.append('../src/visualization/')\n",
    "\n",
    "from particles import Photon\n",
    "from center_finder import CenterFinder, masked_loss, masked_loss_seed\n",
    "\n",
    "%load_ext autoreload\n",
    "%autoreload 2"
   ]
  },
  {
   "cell_type": "markdown",
   "metadata": {},
   "source": [
    "# Load and prepare data for training from one- and two-particle samples"
   ]
  },
  {
   "cell_type": "code",
   "execution_count": 2,
   "metadata": {},
   "outputs": [],
   "source": [
    "photon_1 = Photon(n_pcl=1)\n",
    "photon_2 = Photon(n_pcl=2)\n",
    "\n",
    "photons = [photon_1, photon_2]"
   ]
  },
  {
   "cell_type": "code",
   "execution_count": 3,
   "metadata": {},
   "outputs": [],
   "source": [
    "# define the desired model of the seed finder for data pre-processing\n",
    "seed_paths = {\"model_path\": \"../notebooks/models/seed_finder/run_3/\", \n",
    "              \"weight_path\": \"../notebooks/models/seed_finder/run_3/weights.27-0.0105.hdf5\"}"
   ]
  },
  {
   "cell_type": "code",
   "execution_count": 4,
   "metadata": {},
   "outputs": [
    {
     "name": "stderr",
     "output_type": "stream",
     "text": [
      "100%|██████████| 1000/1000 [00:00<00:00, 4960.73it/s]\n",
      "2024-01-14 16:43:04.538361: I metal_plugin/src/device/metal_device.cc:1154] Metal device set to: Apple M2\n",
      "2024-01-14 16:43:04.538388: I metal_plugin/src/device/metal_device.cc:296] systemMemory: 8.00 GB\n",
      "2024-01-14 16:43:04.538403: I metal_plugin/src/device/metal_device.cc:313] maxCacheSize: 2.67 GB\n",
      "2024-01-14 16:43:04.538431: I tensorflow/core/common_runtime/pluggable_device/pluggable_device_factory.cc:306] Could not identify NUMA node of platform GPU ID 0, defaulting to 0. Your kernel may not have been built with NUMA support.\n",
      "2024-01-14 16:43:04.538444: I tensorflow/core/common_runtime/pluggable_device/pluggable_device_factory.cc:272] Created TensorFlow device (/job:localhost/replica:0/task:0/device:GPU:0 with 0 MB memory) -> physical PluggableDevice (device: 0, name: METAL, pci bus id: <undefined>)\n",
      "WARNING:absl:At this time, the v2.11+ optimizer `tf.keras.optimizers.RestoredOptimizer` runs slowly on M1/M2 Macs, please use the legacy Keras optimizer instead, located at `tf.keras.optimizers.legacy.RestoredOptimizer`.\n",
      "WARNING:absl:At this time, the v2.11+ optimizer `tf.keras.optimizers.Adam` runs slowly on M1/M2 Macs, please use the legacy Keras optimizer instead, located at `tf.keras.optimizers.legacy.Adam`.\n",
      "2024-01-14 16:43:05.150733: I tensorflow/core/grappler/optimizers/custom_graph_optimizer_registry.cc:117] Plugin optimizer for device_type GPU is enabled.\n"
     ]
    },
    {
     "name": "stdout",
     "output_type": "stream",
     "text": [
      "1094/1094 [==============================] - 3s 3ms/step\n"
     ]
    },
    {
     "name": "stderr",
     "output_type": "stream",
     "text": [
      "100%|██████████| 998/998 [00:00<00:00, 37537.13it/s]\n",
      "100%|██████████| 1000/1000 [00:00<00:00, 5233.99it/s]\n",
      "WARNING:absl:At this time, the v2.11+ optimizer `tf.keras.optimizers.RestoredOptimizer` runs slowly on M1/M2 Macs, please use the legacy Keras optimizer instead, located at `tf.keras.optimizers.legacy.RestoredOptimizer`.\n",
      "WARNING:absl:At this time, the v2.11+ optimizer `tf.keras.optimizers.Adam` runs slowly on M1/M2 Macs, please use the legacy Keras optimizer instead, located at `tf.keras.optimizers.legacy.Adam`.\n"
     ]
    },
    {
     "name": "stdout",
     "output_type": "stream",
     "text": [
      "1094/1094 [==============================] - 3s 3ms/step\n"
     ]
    },
    {
     "name": "stderr",
     "output_type": "stream",
     "text": [
      "100%|██████████| 998/998 [00:00<00:00, 40495.27it/s]\n",
      "100%|██████████| 1000/1000 [00:00<00:00, 3694.43it/s]\n",
      "WARNING:absl:At this time, the v2.11+ optimizer `tf.keras.optimizers.RestoredOptimizer` runs slowly on M1/M2 Macs, please use the legacy Keras optimizer instead, located at `tf.keras.optimizers.legacy.RestoredOptimizer`.\n",
      "WARNING:absl:At this time, the v2.11+ optimizer `tf.keras.optimizers.Adam` runs slowly on M1/M2 Macs, please use the legacy Keras optimizer instead, located at `tf.keras.optimizers.legacy.Adam`.\n"
     ]
    },
    {
     "name": "stdout",
     "output_type": "stream",
     "text": [
      "1040/1040 [==============================] - 3s 3ms/step\n"
     ]
    },
    {
     "name": "stderr",
     "output_type": "stream",
     "text": [
      "100%|██████████| 950/950 [00:00<00:00, 37901.54it/s]\n",
      "100%|██████████| 1000/1000 [00:00<00:00, 3761.55it/s]\n",
      "WARNING:absl:At this time, the v2.11+ optimizer `tf.keras.optimizers.RestoredOptimizer` runs slowly on M1/M2 Macs, please use the legacy Keras optimizer instead, located at `tf.keras.optimizers.legacy.RestoredOptimizer`.\n",
      "WARNING:absl:At this time, the v2.11+ optimizer `tf.keras.optimizers.Adam` runs slowly on M1/M2 Macs, please use the legacy Keras optimizer instead, located at `tf.keras.optimizers.legacy.Adam`.\n"
     ]
    },
    {
     "name": "stdout",
     "output_type": "stream",
     "text": [
      "1040/1040 [==============================] - 3s 3ms/step\n"
     ]
    },
    {
     "name": "stderr",
     "output_type": "stream",
     "text": [
      "100%|██████████| 950/950 [00:00<00:00, 32592.17it/s]\n"
     ]
    }
   ],
   "source": [
    "# combine elements for 1 and 2 photon samples into one dataset\n",
    "Xtrain, ytrain = ([], [], []), {'center':[], 'energy': [], 'seed': []} \n",
    "Xvalid, yvalid = ([], [], []), {'center':[], 'energy': [], 'seed': []} \n",
    "\n",
    "for photon in photons:\n",
    "    Xi, yi = photon.data_for_center_finder(\"valid\", 0.3, **seed_paths)\n",
    "    [Xtrain[i].extend(Xi[i]) for i in range(3)]\n",
    "    {ytrain[i].extend(yi[i]) for i in ['center', 'energy', 'seed']}\n",
    "\n",
    "    Xi, yi = photon.data_for_center_finder(\"test\", 0.3, **seed_paths)\n",
    "    [Xvalid[i].extend(Xi[i]) for i in range(3)]\n",
    "    {yvalid[i].extend(yi[i]) for i in ['center', 'energy', 'seed']}\n",
    "\n",
    "Xtrain = [np.array(Xtrain[i]) for i in range(3)]\n",
    "ytrain = {i: np.array(ytrain[i]) for i in ['center', 'energy', 'seed']}\n",
    "\n",
    "Xvalid = [np.array(Xvalid[i]) for i in range(3)]\n",
    "yvalid = {i: np.array(yvalid[i]) for i in ['center', 'energy', 'seed']}"
   ]
  },
  {
   "cell_type": "code",
   "execution_count": 5,
   "metadata": {},
   "outputs": [],
   "source": [
    "# shuffle the samples randomly\n",
    "Xtrain[0], Xtrain[1], Xtrain[2], ytrain[\"center\"], ytrain[\"energy\"], ytrain[\"seed\"] = shuffle(Xtrain[0], Xtrain[1], \n",
    "                                                                                              Xtrain[2], ytrain[\"center\"], \n",
    "                                                                                              ytrain[\"energy\"], ytrain[\"seed\"], \n",
    "                                                                                              random_state=42)\n",
    "Xvalid[0], Xvalid[1], Xvalid[2], yvalid[\"center\"], yvalid[\"energy\"], yvalid[\"seed\"] = shuffle(Xvalid[0], Xvalid[1], \n",
    "                                                                                              Xvalid[2], yvalid[\"center\"], \n",
    "                                                                                              yvalid[\"energy\"], yvalid[\"seed\"], \n",
    "                                                                                              random_state=42)"
   ]
  },
  {
   "cell_type": "markdown",
   "metadata": {},
   "source": [
    "# Prepare the model and training"
   ]
  },
  {
   "cell_type": "code",
   "execution_count": 6,
   "metadata": {},
   "outputs": [],
   "source": [
    "# define parameters of the model\n",
    "args = {\n",
    "    'n' : 4,\n",
    "    'conv_filter' : [32, 64], \n",
    "    'conv_kernel' : [3, 3],\n",
    "    'dense_layers' : [1000, 500, 200, 200],\n",
    "    'dropout' : [0.1, 0.1, 0.3, 0.1],\n",
    "    'en_max' : 100,\n",
    "}"
   ]
  },
  {
   "cell_type": "code",
   "execution_count": 7,
   "metadata": {},
   "outputs": [],
   "source": [
    "model = CenterFinder(args)\n",
    "opt = tfa.optimizers.LAMB(learning_rate=0.0001)\n",
    "\n",
    "loss = {'energy':masked_loss, 'center':masked_loss,\n",
    "                       'seed': masked_loss_seed}\n",
    "\n",
    "loss_weights = {'energy':1, 'center': 1, 'seed': 0.05}\n",
    "model.compile(optimizer=opt, loss=loss, loss_weights=loss_weights)"
   ]
  },
  {
   "cell_type": "code",
   "execution_count": 22,
   "metadata": {},
   "outputs": [],
   "source": [
    "filepath = 'models/center_finder/run_2/'\n",
    "\n",
    "checkpoint = ModelCheckpoint(str(filepath)+\"/weights.{epoch:02d}-{val_loss:.4f}.hdf5\", \n",
    "                                monitor='val_loss', verbose = 1, save_best_only = True, \n",
    "                                mode='auto', save_freq='epoch', save_format=\"tf\", \n",
    "                                save_weights_only=True)\n",
    "\n",
    "callback = tf.keras.callbacks.EarlyStopping(monitor = 'val_loss', patience = 30)"
   ]
  },
  {
   "cell_type": "markdown",
   "metadata": {},
   "source": [
    "# Model training"
   ]
  },
  {
   "cell_type": "code",
   "execution_count": 25,
   "metadata": {},
   "outputs": [
    {
     "name": "stdout",
     "output_type": "stream",
     "text": [
      "Epoch 1/30\n",
      "4/4 [==============================] - ETA: 0s - loss: 0.3466 - center_loss: 0.2415 - energy_loss: 0.1045 - seed_loss: 0.0116\n",
      "Epoch 1: val_loss improved from inf to 0.23515, saving model to models/center_finder/run_2/weights.01-0.2352.hdf5\n",
      "4/4 [==============================] - 3s 407ms/step - loss: 0.3466 - center_loss: 0.2415 - energy_loss: 0.1045 - seed_loss: 0.0116 - val_loss: 0.2352 - val_center_loss: 0.1617 - val_energy_loss: 0.0729 - val_seed_loss: 0.0105\n",
      "Epoch 2/30\n",
      "4/4 [==============================] - ETA: 0s - loss: 0.3457 - center_loss: 0.2423 - energy_loss: 0.1029 - seed_loss: 0.0114\n",
      "Epoch 2: val_loss improved from 0.23515 to 0.22832, saving model to models/center_finder/run_2/weights.02-0.2283.hdf5\n",
      "4/4 [==============================] - 1s 184ms/step - loss: 0.3457 - center_loss: 0.2423 - energy_loss: 0.1029 - seed_loss: 0.0114 - val_loss: 0.2283 - val_center_loss: 0.1578 - val_energy_loss: 0.0700 - val_seed_loss: 0.0103\n",
      "Epoch 3/30\n",
      "4/4 [==============================] - ETA: 0s - loss: 0.3396 - center_loss: 0.2403 - energy_loss: 0.0987 - seed_loss: 0.0117\n",
      "Epoch 3: val_loss improved from 0.22832 to 0.22257, saving model to models/center_finder/run_2/weights.03-0.2226.hdf5\n",
      "4/4 [==============================] - 1s 140ms/step - loss: 0.3396 - center_loss: 0.2403 - energy_loss: 0.0987 - seed_loss: 0.0117 - val_loss: 0.2226 - val_center_loss: 0.1549 - val_energy_loss: 0.0672 - val_seed_loss: 0.0101\n",
      "Epoch 4/30\n",
      "4/4 [==============================] - ETA: 0s - loss: 0.3388 - center_loss: 0.2388 - energy_loss: 0.0995 - seed_loss: 0.0104\n",
      "Epoch 4: val_loss improved from 0.22257 to 0.21908, saving model to models/center_finder/run_2/weights.04-0.2191.hdf5\n",
      "4/4 [==============================] - 1s 186ms/step - loss: 0.3388 - center_loss: 0.2388 - energy_loss: 0.0995 - seed_loss: 0.0104 - val_loss: 0.2191 - val_center_loss: 0.1537 - val_energy_loss: 0.0649 - val_seed_loss: 0.0100\n",
      "Epoch 5/30\n",
      "4/4 [==============================] - ETA: 0s - loss: 0.3349 - center_loss: 0.2375 - energy_loss: 0.0968 - seed_loss: 0.0108\n",
      "Epoch 5: val_loss improved from 0.21908 to 0.21596, saving model to models/center_finder/run_2/weights.05-0.2160.hdf5\n",
      "4/4 [==============================] - 1s 159ms/step - loss: 0.3349 - center_loss: 0.2375 - energy_loss: 0.0968 - seed_loss: 0.0108 - val_loss: 0.2160 - val_center_loss: 0.1525 - val_energy_loss: 0.0629 - val_seed_loss: 0.0098\n",
      "Epoch 6/30\n",
      "4/4 [==============================] - ETA: 0s - loss: 0.3225 - center_loss: 0.2292 - energy_loss: 0.0928 - seed_loss: 0.0107\n",
      "Epoch 6: val_loss improved from 0.21596 to 0.21406, saving model to models/center_finder/run_2/weights.06-0.2141.hdf5\n",
      "4/4 [==============================] - 1s 168ms/step - loss: 0.3225 - center_loss: 0.2292 - energy_loss: 0.0928 - seed_loss: 0.0107 - val_loss: 0.2141 - val_center_loss: 0.1540 - val_energy_loss: 0.0596 - val_seed_loss: 0.0097\n",
      "Epoch 7/30\n",
      "4/4 [==============================] - ETA: 0s - loss: 0.3250 - center_loss: 0.2314 - energy_loss: 0.0930 - seed_loss: 0.0104\n",
      "Epoch 7: val_loss improved from 0.21406 to 0.20671, saving model to models/center_finder/run_2/weights.07-0.2067.hdf5\n",
      "4/4 [==============================] - 1s 171ms/step - loss: 0.3250 - center_loss: 0.2314 - energy_loss: 0.0930 - seed_loss: 0.0104 - val_loss: 0.2067 - val_center_loss: 0.1482 - val_energy_loss: 0.0580 - val_seed_loss: 0.0095\n",
      "Epoch 8/30\n",
      "4/4 [==============================] - ETA: 0s - loss: 0.3146 - center_loss: 0.2254 - energy_loss: 0.0887 - seed_loss: 0.0102\n",
      "Epoch 8: val_loss did not improve from 0.20671\n",
      "4/4 [==============================] - 1s 130ms/step - loss: 0.3146 - center_loss: 0.2254 - energy_loss: 0.0887 - seed_loss: 0.0102 - val_loss: 0.2088 - val_center_loss: 0.1501 - val_energy_loss: 0.0583 - val_seed_loss: 0.0094\n",
      "Epoch 9/30\n",
      "4/4 [==============================] - ETA: 0s - loss: 0.3146 - center_loss: 0.2260 - energy_loss: 0.0881 - seed_loss: 0.0104\n",
      "Epoch 9: val_loss improved from 0.20671 to 0.20394, saving model to models/center_finder/run_2/weights.09-0.2039.hdf5\n",
      "4/4 [==============================] - 0s 130ms/step - loss: 0.3146 - center_loss: 0.2260 - energy_loss: 0.0881 - seed_loss: 0.0104 - val_loss: 0.2039 - val_center_loss: 0.1462 - val_energy_loss: 0.0573 - val_seed_loss: 0.0093\n",
      "Epoch 10/30\n",
      "4/4 [==============================] - ETA: 0s - loss: 0.3118 - center_loss: 0.2237 - energy_loss: 0.0876 - seed_loss: 0.0099\n",
      "Epoch 10: val_loss improved from 0.20394 to 0.19962, saving model to models/center_finder/run_2/weights.10-0.1996.hdf5\n",
      "4/4 [==============================] - 1s 167ms/step - loss: 0.3118 - center_loss: 0.2237 - energy_loss: 0.0876 - seed_loss: 0.0099 - val_loss: 0.1996 - val_center_loss: 0.1444 - val_energy_loss: 0.0548 - val_seed_loss: 0.0091\n",
      "Epoch 11/30\n",
      "4/4 [==============================] - ETA: 0s - loss: 0.3043 - center_loss: 0.2190 - energy_loss: 0.0848 - seed_loss: 0.0096\n",
      "Epoch 11: val_loss improved from 0.19962 to 0.19671, saving model to models/center_finder/run_2/weights.11-0.1967.hdf5\n",
      "4/4 [==============================] - 0s 121ms/step - loss: 0.3043 - center_loss: 0.2190 - energy_loss: 0.0848 - seed_loss: 0.0096 - val_loss: 0.1967 - val_center_loss: 0.1429 - val_energy_loss: 0.0534 - val_seed_loss: 0.0090\n",
      "Epoch 12/30\n",
      "4/4 [==============================] - ETA: 0s - loss: 0.3080 - center_loss: 0.2217 - energy_loss: 0.0859 - seed_loss: 0.0095\n",
      "Epoch 12: val_loss improved from 0.19671 to 0.19580, saving model to models/center_finder/run_2/weights.12-0.1958.hdf5\n",
      "4/4 [==============================] - 1s 132ms/step - loss: 0.3080 - center_loss: 0.2217 - energy_loss: 0.0859 - seed_loss: 0.0095 - val_loss: 0.1958 - val_center_loss: 0.1419 - val_energy_loss: 0.0535 - val_seed_loss: 0.0089\n",
      "Epoch 13/30\n",
      "4/4 [==============================] - ETA: 0s - loss: 0.2984 - center_loss: 0.2163 - energy_loss: 0.0816 - seed_loss: 0.0095\n",
      "Epoch 13: val_loss did not improve from 0.19580\n",
      "4/4 [==============================] - 0s 125ms/step - loss: 0.2984 - center_loss: 0.2163 - energy_loss: 0.0816 - seed_loss: 0.0095 - val_loss: 0.1958 - val_center_loss: 0.1431 - val_energy_loss: 0.0523 - val_seed_loss: 0.0088\n",
      "Epoch 14/30\n",
      "4/4 [==============================] - ETA: 0s - loss: 0.2979 - center_loss: 0.2158 - energy_loss: 0.0816 - seed_loss: 0.0096\n",
      "Epoch 14: val_loss improved from 0.19580 to 0.19010, saving model to models/center_finder/run_2/weights.14-0.1901.hdf5\n",
      "4/4 [==============================] - 0s 134ms/step - loss: 0.2979 - center_loss: 0.2158 - energy_loss: 0.0816 - seed_loss: 0.0096 - val_loss: 0.1901 - val_center_loss: 0.1390 - val_energy_loss: 0.0507 - val_seed_loss: 0.0087\n",
      "Epoch 15/30\n",
      "4/4 [==============================] - ETA: 0s - loss: 0.2937 - center_loss: 0.2116 - energy_loss: 0.0817 - seed_loss: 0.0095\n",
      "Epoch 15: val_loss did not improve from 0.19010\n",
      "4/4 [==============================] - 0s 115ms/step - loss: 0.2937 - center_loss: 0.2116 - energy_loss: 0.0817 - seed_loss: 0.0095 - val_loss: 0.1907 - val_center_loss: 0.1408 - val_energy_loss: 0.0494 - val_seed_loss: 0.0086\n",
      "Epoch 16/30\n",
      "4/4 [==============================] - ETA: 0s - loss: 0.2920 - center_loss: 0.2107 - energy_loss: 0.0809 - seed_loss: 0.0094\n",
      "Epoch 16: val_loss improved from 0.19010 to 0.18837, saving model to models/center_finder/run_2/weights.16-0.1884.hdf5\n",
      "4/4 [==============================] - 1s 161ms/step - loss: 0.2920 - center_loss: 0.2107 - energy_loss: 0.0809 - seed_loss: 0.0094 - val_loss: 0.1884 - val_center_loss: 0.1374 - val_energy_loss: 0.0506 - val_seed_loss: 0.0085\n",
      "Epoch 17/30\n",
      "4/4 [==============================] - ETA: 0s - loss: 0.2860 - center_loss: 0.2088 - energy_loss: 0.0768 - seed_loss: 0.0090\n",
      "Epoch 17: val_loss did not improve from 0.18837\n",
      "4/4 [==============================] - 1s 174ms/step - loss: 0.2860 - center_loss: 0.2088 - energy_loss: 0.0768 - seed_loss: 0.0090 - val_loss: 0.1890 - val_center_loss: 0.1400 - val_energy_loss: 0.0487 - val_seed_loss: 0.0084\n",
      "Epoch 18/30\n",
      "4/4 [==============================] - ETA: 0s - loss: 0.2849 - center_loss: 0.2064 - energy_loss: 0.0781 - seed_loss: 0.0090\n",
      "Epoch 18: val_loss improved from 0.18837 to 0.18277, saving model to models/center_finder/run_2/weights.18-0.1828.hdf5\n",
      "4/4 [==============================] - 1s 147ms/step - loss: 0.2849 - center_loss: 0.2064 - energy_loss: 0.0781 - seed_loss: 0.0090 - val_loss: 0.1828 - val_center_loss: 0.1360 - val_energy_loss: 0.0463 - val_seed_loss: 0.0083\n",
      "Epoch 19/30\n",
      "4/4 [==============================] - ETA: 0s - loss: 0.2821 - center_loss: 0.2054 - energy_loss: 0.0762 - seed_loss: 0.0091\n",
      "Epoch 19: val_loss improved from 0.18277 to 0.18257, saving model to models/center_finder/run_2/weights.19-0.1826.hdf5\n",
      "4/4 [==============================] - 1s 136ms/step - loss: 0.2821 - center_loss: 0.2054 - energy_loss: 0.0762 - seed_loss: 0.0091 - val_loss: 0.1826 - val_center_loss: 0.1361 - val_energy_loss: 0.0461 - val_seed_loss: 0.0082\n",
      "Epoch 20/30\n",
      "4/4 [==============================] - ETA: 0s - loss: 0.2774 - center_loss: 0.2013 - energy_loss: 0.0757 - seed_loss: 0.0089\n",
      "Epoch 20: val_loss improved from 0.18257 to 0.18086, saving model to models/center_finder/run_2/weights.20-0.1809.hdf5\n",
      "4/4 [==============================] - 1s 153ms/step - loss: 0.2774 - center_loss: 0.2013 - energy_loss: 0.0757 - seed_loss: 0.0089 - val_loss: 0.1809 - val_center_loss: 0.1336 - val_energy_loss: 0.0469 - val_seed_loss: 0.0081\n",
      "Epoch 21/30\n",
      "4/4 [==============================] - ETA: 0s - loss: 0.2753 - center_loss: 0.1999 - energy_loss: 0.0749 - seed_loss: 0.0091\n",
      "Epoch 21: val_loss improved from 0.18086 to 0.17979, saving model to models/center_finder/run_2/weights.21-0.1798.hdf5\n",
      "4/4 [==============================] - 1s 142ms/step - loss: 0.2753 - center_loss: 0.1999 - energy_loss: 0.0749 - seed_loss: 0.0091 - val_loss: 0.1798 - val_center_loss: 0.1325 - val_energy_loss: 0.0469 - val_seed_loss: 0.0081\n",
      "Epoch 22/30\n",
      "4/4 [==============================] - ETA: 0s - loss: 0.2778 - center_loss: 0.2030 - energy_loss: 0.0743 - seed_loss: 0.0089\n",
      "Epoch 22: val_loss improved from 0.17979 to 0.17574, saving model to models/center_finder/run_2/weights.22-0.1757.hdf5\n",
      "4/4 [==============================] - 1s 162ms/step - loss: 0.2778 - center_loss: 0.2030 - energy_loss: 0.0743 - seed_loss: 0.0089 - val_loss: 0.1757 - val_center_loss: 0.1310 - val_energy_loss: 0.0444 - val_seed_loss: 0.0080\n",
      "Epoch 23/30\n",
      "4/4 [==============================] - ETA: 0s - loss: 0.2689 - center_loss: 0.1937 - energy_loss: 0.0747 - seed_loss: 0.0082\n",
      "Epoch 23: val_loss improved from 0.17574 to 0.17347, saving model to models/center_finder/run_2/weights.23-0.1735.hdf5\n",
      "4/4 [==============================] - 1s 171ms/step - loss: 0.2689 - center_loss: 0.1937 - energy_loss: 0.0747 - seed_loss: 0.0082 - val_loss: 0.1735 - val_center_loss: 0.1298 - val_energy_loss: 0.0432 - val_seed_loss: 0.0079\n",
      "Epoch 24/30\n",
      "4/4 [==============================] - ETA: 0s - loss: 0.2724 - center_loss: 0.1997 - energy_loss: 0.0723 - seed_loss: 0.0083\n",
      "Epoch 24: val_loss did not improve from 0.17347\n",
      "4/4 [==============================] - 1s 133ms/step - loss: 0.2724 - center_loss: 0.1997 - energy_loss: 0.0723 - seed_loss: 0.0083 - val_loss: 0.1738 - val_center_loss: 0.1286 - val_energy_loss: 0.0448 - val_seed_loss: 0.0079\n",
      "Epoch 25/30\n",
      "4/4 [==============================] - ETA: 0s - loss: 0.2658 - center_loss: 0.1947 - energy_loss: 0.0707 - seed_loss: 0.0087\n",
      "Epoch 25: val_loss did not improve from 0.17347\n",
      "4/4 [==============================] - 1s 134ms/step - loss: 0.2658 - center_loss: 0.1947 - energy_loss: 0.0707 - seed_loss: 0.0087 - val_loss: 0.1774 - val_center_loss: 0.1314 - val_energy_loss: 0.0456 - val_seed_loss: 0.0078\n",
      "Epoch 26/30\n",
      "4/4 [==============================] - ETA: 0s - loss: 0.2658 - center_loss: 0.1928 - energy_loss: 0.0726 - seed_loss: 0.0084\n",
      "Epoch 26: val_loss did not improve from 0.17347\n",
      "4/4 [==============================] - 0s 129ms/step - loss: 0.2658 - center_loss: 0.1928 - energy_loss: 0.0726 - seed_loss: 0.0084 - val_loss: 0.1739 - val_center_loss: 0.1290 - val_energy_loss: 0.0445 - val_seed_loss: 0.0077\n",
      "Epoch 27/30\n",
      "4/4 [==============================] - ETA: 0s - loss: 0.2595 - center_loss: 0.1903 - energy_loss: 0.0688 - seed_loss: 0.0085\n",
      "Epoch 27: val_loss improved from 0.17347 to 0.17187, saving model to models/center_finder/run_2/weights.27-0.1719.hdf5\n",
      "4/4 [==============================] - 1s 189ms/step - loss: 0.2595 - center_loss: 0.1903 - energy_loss: 0.0688 - seed_loss: 0.0085 - val_loss: 0.1719 - val_center_loss: 0.1282 - val_energy_loss: 0.0433 - val_seed_loss: 0.0077\n",
      "Epoch 28/30\n",
      "4/4 [==============================] - ETA: 0s - loss: 0.2580 - center_loss: 0.1886 - energy_loss: 0.0690 - seed_loss: 0.0084\n",
      "Epoch 28: val_loss improved from 0.17187 to 0.16655, saving model to models/center_finder/run_2/weights.28-0.1666.hdf5\n",
      "4/4 [==============================] - 1s 190ms/step - loss: 0.2580 - center_loss: 0.1886 - energy_loss: 0.0690 - seed_loss: 0.0084 - val_loss: 0.1666 - val_center_loss: 0.1251 - val_energy_loss: 0.0411 - val_seed_loss: 0.0076\n",
      "Epoch 29/30\n",
      "4/4 [==============================] - ETA: 0s - loss: 0.2578 - center_loss: 0.1880 - energy_loss: 0.0693 - seed_loss: 0.0081\n",
      "Epoch 29: val_loss improved from 0.16655 to 0.16498, saving model to models/center_finder/run_2/weights.29-0.1650.hdf5\n",
      "4/4 [==============================] - 1s 177ms/step - loss: 0.2578 - center_loss: 0.1880 - energy_loss: 0.0693 - seed_loss: 0.0081 - val_loss: 0.1650 - val_center_loss: 0.1229 - val_energy_loss: 0.0417 - val_seed_loss: 0.0076\n",
      "Epoch 30/30\n",
      "4/4 [==============================] - ETA: 0s - loss: 0.2572 - center_loss: 0.1876 - energy_loss: 0.0692 - seed_loss: 0.0077\n",
      "Epoch 30: val_loss improved from 0.16498 to 0.16401, saving model to models/center_finder/run_2/weights.30-0.1640.hdf5\n",
      "4/4 [==============================] - 1s 162ms/step - loss: 0.2572 - center_loss: 0.1876 - energy_loss: 0.0692 - seed_loss: 0.0077 - val_loss: 0.1640 - val_center_loss: 0.1222 - val_energy_loss: 0.0414 - val_seed_loss: 0.0075\n"
     ]
    }
   ],
   "source": [
    "history = model.fit(Xtrain, ytrain,\n",
    "                    validation_data=(Xvalid, yvalid), \n",
    "                    epochs=30, batch_size=512, \n",
    "                    callbacks=[checkpoint, callback])"
   ]
  },
  {
   "cell_type": "code",
   "execution_count": 26,
   "metadata": {},
   "outputs": [
    {
     "name": "stdout",
     "output_type": "stream",
     "text": [
      "INFO:tensorflow:Assets written to: models/center_finder/run_2/assets\n"
     ]
    },
    {
     "name": "stderr",
     "output_type": "stream",
     "text": [
      "INFO:tensorflow:Assets written to: models/center_finder/run_2/assets\n"
     ]
    }
   ],
   "source": [
    "model.save(filepath)"
   ]
  },
  {
   "cell_type": "markdown",
   "metadata": {},
   "source": [
    "# Draw loss function "
   ]
  },
  {
   "cell_type": "code",
   "execution_count": null,
   "metadata": {},
   "outputs": [],
   "source": [
    "import matplotlib.pyplot as plt\n",
    "import numpy as np\n",
    "\n",
    "plt.rcParams['figure.figsize'] = (5,5)\n",
    "plt.rcParams['figure.dpi'] = 150\n",
    "\n",
    "plt.scatter(np.arange(0,30), history.history[\"loss\"], s=1., label='loss')\n",
    "plt.scatter(np.arange(0,30), history.history[\"val_loss\"], s=1., label='val_loss')\n",
    "plt.legend()\n",
    "plt.savefig(str(filepath) + '/loss_function')"
   ]
  }
 ],
 "metadata": {
  "kernelspec": {
   "display_name": "envdeep",
   "language": "python",
   "name": "python3"
  },
  "language_info": {
   "codemirror_mode": {
    "name": "ipython",
    "version": 3
   },
   "file_extension": ".py",
   "mimetype": "text/x-python",
   "name": "python",
   "nbconvert_exporter": "python",
   "pygments_lexer": "ipython3",
   "version": "3.9.18"
  },
  "orig_nbformat": 4
 },
 "nbformat": 4,
 "nbformat_minor": 2
}
