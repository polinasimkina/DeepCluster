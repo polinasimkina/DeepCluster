{
 "cells": [
  {
   "cell_type": "code",
   "execution_count": 4,
   "metadata": {},
   "outputs": [
    {
     "name": "stdout",
     "output_type": "stream",
     "text": [
      "The autoreload extension is already loaded. To reload it, use:\n",
      "  %reload_ext autoreload\n"
     ]
    }
   ],
   "source": [
    "import tensorflow as tf\n",
    "from tensorflow.keras.callbacks import ModelCheckpoint\n",
    "import numpy as np\n",
    "from sklearn.utils import shuffle\n",
    "\n",
    "import sys \n",
    "sys.path.append('../src/utils/')\n",
    "sys.path.append('../src/models/')\n",
    "sys.path.append('../src/visualization/')\n",
    "\n",
    "from particles import Photon\n",
    "from center_finder import CenterFinder\n",
    "\n",
    "%load_ext autoreload\n",
    "%autoreload 2"
   ]
  },
  {
   "cell_type": "markdown",
   "metadata": {},
   "source": [
    "# Load and prepare data for training from one- and two-particle samples"
   ]
  },
  {
   "cell_type": "code",
   "execution_count": 5,
   "metadata": {},
   "outputs": [],
   "source": [
    "photon_1 = Photon(n_pcl=1)\n",
    "photon_2 = Photon(n_pcl=2)\n",
    "\n",
    "photons = [photon_1, photon_2]"
   ]
  },
  {
   "cell_type": "code",
   "execution_count": 102,
   "metadata": {},
   "outputs": [
    {
     "name": "stderr",
     "output_type": "stream",
     "text": [
      "[autoreload of particles failed: Traceback (most recent call last):\n",
      "  File \"/Users/polinasimkina/miniconda3/envs/envdeep/lib/python3.9/site-packages/IPython/extensions/autoreload.py\", line 273, in check\n",
      "    superreload(m, reload, self.old_objects)\n",
      "  File \"/Users/polinasimkina/miniconda3/envs/envdeep/lib/python3.9/site-packages/IPython/extensions/autoreload.py\", line 471, in superreload\n",
      "    module = reload(module)\n",
      "  File \"/Users/polinasimkina/miniconda3/envs/envdeep/lib/python3.9/importlib/__init__.py\", line 169, in reload\n",
      "    _bootstrap._exec(spec, module)\n",
      "  File \"<frozen importlib._bootstrap>\", line 613, in _exec\n",
      "  File \"<frozen importlib._bootstrap_external>\", line 850, in exec_module\n",
      "  File \"<frozen importlib._bootstrap>\", line 228, in _call_with_frames_removed\n",
      "  File \"/Users/polinasimkina/DeepCluster/notebooks/../src/utils/particles.py\", line 3, in <module>\n",
      "    from data_preprocessing import apply_noise, get_model_samples, mask_variable, get_adjacency_matrix\n",
      "ImportError: cannot import name 'get_adjacency_matrix' from 'data_preprocessing' (/Users/polinasimkina/DeepCluster/notebooks/../src/utils/data_preprocessing.py)\n",
      "]\n"
     ]
    }
   ],
   "source": [
    "seed_paths = {\"model_path\": \"../notebooks/models/seed_finder/run_3/\", \n",
    "              \"weight_path\": \"../notebooks/models/seed_finder/run_3/weights.27-0.0105.hdf5\"}"
   ]
  },
  {
   "cell_type": "code",
   "execution_count": 107,
   "metadata": {},
   "outputs": [
    {
     "name": "stderr",
     "output_type": "stream",
     "text": [
      "100%|██████████| 1000/1000 [00:00<00:00, 3255.51it/s]\n",
      "WARNING:absl:At this time, the v2.11+ optimizer `tf.keras.optimizers.RestoredOptimizer` runs slowly on M1/M2 Macs, please use the legacy Keras optimizer instead, located at `tf.keras.optimizers.legacy.RestoredOptimizer`.\n",
      "WARNING:absl:At this time, the v2.11+ optimizer `tf.keras.optimizers.Adam` runs slowly on M1/M2 Macs, please use the legacy Keras optimizer instead, located at `tf.keras.optimizers.legacy.Adam`.\n"
     ]
    },
    {
     "name": "stdout",
     "output_type": "stream",
     "text": [
      "1040/1040 [==============================] - 3s 3ms/step\n"
     ]
    },
    {
     "name": "stderr",
     "output_type": "stream",
     "text": [
      "  0%|          | 0/950 [00:00<?, ?it/s]\n"
     ]
    },
    {
     "ename": "ValueError",
     "evalue": "operands could not be broadcast together with shapes (35,35) (4,4) (35,35) ",
     "output_type": "error",
     "traceback": [
      "\u001b[0;31m---------------------------------------------------------------------------\u001b[0m",
      "\u001b[0;31mValueError\u001b[0m                                Traceback (most recent call last)",
      "Cell \u001b[0;32mIn[107], line 1\u001b[0m\n\u001b[0;32m----> 1\u001b[0m X, y \u001b[39m=\u001b[39m photon_2\u001b[39m.\u001b[39;49mdata_for_center_finder(\u001b[39m\"\u001b[39;49m\u001b[39mdebug\u001b[39;49m\u001b[39m\"\u001b[39;49m, \u001b[39m0.3\u001b[39;49m, \u001b[39m*\u001b[39;49m\u001b[39m*\u001b[39;49mseed_paths)\n",
      "File \u001b[0;32m~/DeepCluster/notebooks/../src/utils/particles.py:116\u001b[0m, in \u001b[0;36mParticle.data_for_center_finder\u001b[0;34m(self, data_type, threshold, n, **kwargs)\u001b[0m\n\u001b[1;32m    113\u001b[0m en[mask] \u001b[39m=\u001b[39m en[mask]\u001b[39m/\u001b[39mnp\u001b[39m.\u001b[39mmax(en[mask])\n\u001b[1;32m    115\u001b[0m \u001b[39m# get adjacency matrix\u001b[39;00m\n\u001b[0;32m--> 116\u001b[0m adj_matrix, adj_coef \u001b[39m=\u001b[39m get_adj_matrix(X, indices, n\u001b[39m=\u001b[39;49mn)\n\u001b[1;32m    118\u001b[0m \u001b[39mreturn\u001b[39;00m (X, adj_matrix, adj_coef), {\u001b[39m'\u001b[39m\u001b[39mcenter\u001b[39m\u001b[39m'\u001b[39m:y, \u001b[39m'\u001b[39m\u001b[39menergy\u001b[39m\u001b[39m'\u001b[39m: en, \u001b[39m'\u001b[39m\u001b[39mseed\u001b[39m\u001b[39m'\u001b[39m: is_seed}\n",
      "File \u001b[0;32m~/DeepCluster/notebooks/../src/utils/data_preprocessing.py:182\u001b[0m, in \u001b[0;36mget_adj_matrix\u001b[0;34m(X, indices, n)\u001b[0m\n\u001b[1;32m    179\u001b[0m dr[dr\u001b[39m!=\u001b[39m\u001b[39m0\u001b[39m] \u001b[39m=\u001b[39m \u001b[39m1\u001b[39m \u001b[39m-\u001b[39m dr[dr\u001b[39m!=\u001b[39m\u001b[39m0\u001b[39m]\n\u001b[1;32m    181\u001b[0m \u001b[39m# add a self-loop\u001b[39;00m\n\u001b[0;32m--> 182\u001b[0m dr \u001b[39m+\u001b[39m\u001b[39m=\u001b[39m np\u001b[39m.\u001b[39meye(n)\n\u001b[1;32m    184\u001b[0m adj_cof[i][\u001b[39m0\u001b[39m] \u001b[39m=\u001b[39m dr[\u001b[39m0\u001b[39m,[\u001b[39m0\u001b[39m,\u001b[39m1\u001b[39m,\u001b[39m2\u001b[39m,\u001b[39m3\u001b[39m]]\n\u001b[1;32m    185\u001b[0m adj_cof[i][\u001b[39m1\u001b[39m] \u001b[39m=\u001b[39m dr[\u001b[39m1\u001b[39m,[\u001b[39m1\u001b[39m,\u001b[39m0\u001b[39m,\u001b[39m2\u001b[39m,\u001b[39m3\u001b[39m]]\n",
      "\u001b[0;31mValueError\u001b[0m: operands could not be broadcast together with shapes (35,35) (4,4) (35,35) "
     ]
    }
   ],
   "source": [
    "X, y = photon_2.data_for_center_finder(\"debug\", 0.3, **seed_paths)"
   ]
  },
  {
   "cell_type": "code",
   "execution_count": null,
   "metadata": {},
   "outputs": [],
   "source": []
  }
 ],
 "metadata": {
  "kernelspec": {
   "display_name": "envdeep",
   "language": "python",
   "name": "python3"
  },
  "language_info": {
   "codemirror_mode": {
    "name": "ipython",
    "version": 3
   },
   "file_extension": ".py",
   "mimetype": "text/x-python",
   "name": "python",
   "nbconvert_exporter": "python",
   "pygments_lexer": "ipython3",
   "version": "3.9.18"
  },
  "orig_nbformat": 4
 },
 "nbformat": 4,
 "nbformat_minor": 2
}
