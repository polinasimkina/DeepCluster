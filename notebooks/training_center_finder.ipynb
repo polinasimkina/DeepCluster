{
 "cells": [
  {
   "cell_type": "code",
   "execution_count": 1,
   "metadata": {},
   "outputs": [
    {
     "name": "stderr",
     "output_type": "stream",
     "text": [
      "/Users/polinasimkina/miniconda3/envs/envdeep/lib/python3.9/site-packages/tensorflow_addons/utils/tfa_eol_msg.py:23: UserWarning: \n",
      "\n",
      "TensorFlow Addons (TFA) has ended development and introduction of new features.\n",
      "TFA has entered a minimal maintenance and release mode until a planned end of life in May 2024.\n",
      "Please modify downstream libraries to take dependencies from other repositories in our TensorFlow community (e.g. Keras, Keras-CV, and Keras-NLP). \n",
      "\n",
      "For more information see: https://github.com/tensorflow/addons/issues/2807 \n",
      "\n",
      "  warnings.warn(\n"
     ]
    }
   ],
   "source": [
    "import tensorflow as tf\n",
    "from tensorflow.keras.callbacks import ModelCheckpoint\n",
    "import tensorflow_addons as tfa\n",
    "import numpy as np\n",
    "from sklearn.utils import shuffle\n",
    "\n",
    "import sys \n",
    "sys.path.append('../src/utils/')\n",
    "sys.path.append('../src/models/')\n",
    "sys.path.append('../src/visualization/')\n",
    "\n",
    "from particles import Photon\n",
    "from center_finder import CenterFinder, masked_loss, masked_loss_seed\n",
    "\n",
    "%load_ext autoreload\n",
    "%autoreload 2"
   ]
  },
  {
   "cell_type": "markdown",
   "metadata": {},
   "source": [
    "# Load and prepare data for training from one- and two-particle samples"
   ]
  },
  {
   "cell_type": "code",
   "execution_count": 2,
   "metadata": {},
   "outputs": [],
   "source": [
    "photon_1 = Photon(n_pcl=1)\n",
    "photon_2 = Photon(n_pcl=2)\n",
    "\n",
    "photons = [photon_1, photon_2]"
   ]
  },
  {
   "cell_type": "code",
   "execution_count": 3,
   "metadata": {},
   "outputs": [],
   "source": [
    "# define the desired model of the seed finder for data pre-processing\n",
    "seed_paths = {\"model_path\": \"../notebooks/models/seed_finder/run_3/\", \n",
    "              \"weight_path\": \"../notebooks/models/seed_finder/run_3/weights.27-0.0105.hdf5\"}"
   ]
  },
  {
   "cell_type": "code",
   "execution_count": 4,
   "metadata": {},
   "outputs": [
    {
     "name": "stderr",
     "output_type": "stream",
     "text": [
      "100%|██████████| 100000/100000 [00:18<00:00, 5277.32it/s]\n",
      "2024-01-14 18:06:10.777873: I metal_plugin/src/device/metal_device.cc:1154] Metal device set to: Apple M2\n",
      "2024-01-14 18:06:10.778169: I metal_plugin/src/device/metal_device.cc:296] systemMemory: 8.00 GB\n",
      "2024-01-14 18:06:10.778180: I metal_plugin/src/device/metal_device.cc:313] maxCacheSize: 2.67 GB\n",
      "2024-01-14 18:06:10.778257: I tensorflow/core/common_runtime/pluggable_device/pluggable_device_factory.cc:306] Could not identify NUMA node of platform GPU ID 0, defaulting to 0. Your kernel may not have been built with NUMA support.\n",
      "2024-01-14 18:06:10.778701: I tensorflow/core/common_runtime/pluggable_device/pluggable_device_factory.cc:272] Created TensorFlow device (/job:localhost/replica:0/task:0/device:GPU:0 with 0 MB memory) -> physical PluggableDevice (device: 0, name: METAL, pci bus id: <undefined>)\n",
      "WARNING:absl:At this time, the v2.11+ optimizer `tf.keras.optimizers.RestoredOptimizer` runs slowly on M1/M2 Macs, please use the legacy Keras optimizer instead, located at `tf.keras.optimizers.legacy.RestoredOptimizer`.\n",
      "WARNING:absl:At this time, the v2.11+ optimizer `tf.keras.optimizers.Adam` runs slowly on M1/M2 Macs, please use the legacy Keras optimizer instead, located at `tf.keras.optimizers.legacy.Adam`.\n"
     ]
    },
    {
     "name": "stdout",
     "output_type": "stream",
     "text": [
      "    46/109301 [..............................] - ETA: 4:08 "
     ]
    },
    {
     "name": "stderr",
     "output_type": "stream",
     "text": [
      "2024-01-14 18:06:12.439977: I tensorflow/core/grappler/optimizers/custom_graph_optimizer_registry.cc:117] Plugin optimizer for device_type GPU is enabled.\n"
     ]
    },
    {
     "name": "stdout",
     "output_type": "stream",
     "text": [
      "109301/109301 [==============================] - 484s 4ms/step\n"
     ]
    },
    {
     "name": "stderr",
     "output_type": "stream",
     "text": [
      "100%|██████████| 99601/99601 [00:02<00:00, 41817.35it/s]\n",
      "100%|██████████| 1000/1000 [00:00<00:00, 5185.91it/s]\n",
      "WARNING:absl:At this time, the v2.11+ optimizer `tf.keras.optimizers.RestoredOptimizer` runs slowly on M1/M2 Macs, please use the legacy Keras optimizer instead, located at `tf.keras.optimizers.legacy.RestoredOptimizer`.\n",
      "WARNING:absl:At this time, the v2.11+ optimizer `tf.keras.optimizers.Adam` runs slowly on M1/M2 Macs, please use the legacy Keras optimizer instead, located at `tf.keras.optimizers.legacy.Adam`.\n"
     ]
    },
    {
     "name": "stdout",
     "output_type": "stream",
     "text": [
      "1094/1094 [==============================] - 4s 4ms/step\n"
     ]
    },
    {
     "name": "stderr",
     "output_type": "stream",
     "text": [
      "100%|██████████| 999/999 [00:00<00:00, 39425.19it/s]\n",
      "100%|██████████| 50000/50000 [00:12<00:00, 3923.06it/s]\n",
      "WARNING:absl:At this time, the v2.11+ optimizer `tf.keras.optimizers.RestoredOptimizer` runs slowly on M1/M2 Macs, please use the legacy Keras optimizer instead, located at `tf.keras.optimizers.legacy.RestoredOptimizer`.\n",
      "WARNING:absl:At this time, the v2.11+ optimizer `tf.keras.optimizers.Adam` runs slowly on M1/M2 Macs, please use the legacy Keras optimizer instead, located at `tf.keras.optimizers.legacy.Adam`.\n"
     ]
    },
    {
     "name": "stdout",
     "output_type": "stream",
     "text": [
      "52277/52277 [==============================] - 240s 5ms/step\n"
     ]
    },
    {
     "name": "stderr",
     "output_type": "stream",
     "text": [
      "100%|██████████| 47796/47796 [00:01<00:00, 44178.43it/s]\n",
      "100%|██████████| 1000/1000 [00:00<00:00, 3945.53it/s]\n",
      "WARNING:absl:At this time, the v2.11+ optimizer `tf.keras.optimizers.RestoredOptimizer` runs slowly on M1/M2 Macs, please use the legacy Keras optimizer instead, located at `tf.keras.optimizers.legacy.RestoredOptimizer`.\n",
      "WARNING:absl:At this time, the v2.11+ optimizer `tf.keras.optimizers.Adam` runs slowly on M1/M2 Macs, please use the legacy Keras optimizer instead, located at `tf.keras.optimizers.legacy.Adam`.\n"
     ]
    },
    {
     "name": "stdout",
     "output_type": "stream",
     "text": [
      "1040/1040 [==============================] - 4s 4ms/step\n"
     ]
    },
    {
     "name": "stderr",
     "output_type": "stream",
     "text": [
      "100%|██████████| 950/950 [00:00<00:00, 40918.36it/s]\n"
     ]
    }
   ],
   "source": [
    "# combine elements for 1 and 2 photon samples into one dataset\n",
    "Xtrain, ytrain = ([], [], []), {'center':[], 'energy': [], 'seed': []} \n",
    "Xvalid, yvalid = ([], [], []), {'center':[], 'energy': [], 'seed': []} \n",
    "\n",
    "for photon in photons:\n",
    "    Xi, yi = photon.data_for_center_finder(\"test\", 0.3, **seed_paths)\n",
    "    [Xtrain[i].extend(Xi[i]) for i in range(3)]\n",
    "    {ytrain[i].extend(yi[i]) for i in ['center', 'energy', 'seed']}\n",
    "\n",
    "    Xi, yi = photon.data_for_center_finder(\"debug\", 0.3, **seed_paths)\n",
    "    [Xvalid[i].extend(Xi[i]) for i in range(3)]\n",
    "    {yvalid[i].extend(yi[i]) for i in ['center', 'energy', 'seed']}\n",
    "\n",
    "Xtrain = [np.array(Xtrain[i]) for i in range(3)]\n",
    "ytrain = {i: np.array(ytrain[i]) for i in ['center', 'energy', 'seed']}\n",
    "\n",
    "Xvalid = [np.array(Xvalid[i]) for i in range(3)]\n",
    "yvalid = {i: np.array(yvalid[i]) for i in ['center', 'energy', 'seed']}"
   ]
  },
  {
   "cell_type": "code",
   "execution_count": 5,
   "metadata": {},
   "outputs": [],
   "source": [
    "# shuffle the samples randomly\n",
    "Xtrain[0], Xtrain[1], Xtrain[2], ytrain[\"center\"], ytrain[\"energy\"], ytrain[\"seed\"] = shuffle(Xtrain[0], Xtrain[1], \n",
    "                                                                                              Xtrain[2], ytrain[\"center\"], \n",
    "                                                                                              ytrain[\"energy\"], ytrain[\"seed\"], \n",
    "                                                                                              random_state=42)\n",
    "Xvalid[0], Xvalid[1], Xvalid[2], yvalid[\"center\"], yvalid[\"energy\"], yvalid[\"seed\"] = shuffle(Xvalid[0], Xvalid[1], \n",
    "                                                                                              Xvalid[2], yvalid[\"center\"], \n",
    "                                                                                              yvalid[\"energy\"], yvalid[\"seed\"], \n",
    "                                                                                              random_state=42)"
   ]
  },
  {
   "cell_type": "markdown",
   "metadata": {},
   "source": [
    "# Prepare the model and training"
   ]
  },
  {
   "cell_type": "code",
   "execution_count": 6,
   "metadata": {},
   "outputs": [],
   "source": [
    "# define parameters of the model\n",
    "args = {\n",
    "    'n' : 4,\n",
    "    'conv_filter' : [32, 64], \n",
    "    'conv_kernel' : [3, 3],\n",
    "    'dense_layers' : [1000, 500, 200, 200],\n",
    "    'dropout' : [0.1, 0.1, 0.3, 0.1],\n",
    "    'en_max' : 100,\n",
    "}"
   ]
  },
  {
   "cell_type": "code",
   "execution_count": 7,
   "metadata": {},
   "outputs": [],
   "source": [
    "model = CenterFinder(args)\n",
    "opt = tfa.optimizers.LAMB(learning_rate=0.0001)\n",
    "\n",
    "loss = {'energy':masked_loss, 'center':masked_loss,\n",
    "                       'seed': masked_loss_seed}\n",
    "\n",
    "loss_weights = {'energy':1, 'center': 1, 'seed': 0.05}\n",
    "model.compile(optimizer=opt, loss=loss, loss_weights=loss_weights)"
   ]
  },
  {
   "cell_type": "code",
   "execution_count": 8,
   "metadata": {},
   "outputs": [],
   "source": [
    "filepath = 'models/center_finder/run_2/'\n",
    "\n",
    "checkpoint = ModelCheckpoint(str(filepath)+\"/weights.{epoch:02d}-{val_loss:.4f}.hdf5\", \n",
    "                                monitor='val_loss', verbose = 1, save_best_only = True, \n",
    "                                mode='auto', save_freq='epoch', save_format=\"tf\", \n",
    "                                save_weights_only=True)\n",
    "\n",
    "callback = tf.keras.callbacks.EarlyStopping(monitor = 'val_loss', patience = 30)"
   ]
  },
  {
   "cell_type": "markdown",
   "metadata": {},
   "source": [
    "# Model training"
   ]
  },
  {
   "cell_type": "code",
   "execution_count": 9,
   "metadata": {},
   "outputs": [
    {
     "name": "stdout",
     "output_type": "stream",
     "text": [
      "Epoch 1/30\n",
      "288/288 [==============================] - ETA: 0s - loss: 0.3759 - center_loss: 0.2512 - energy_loss: 0.1235 - seed_loss: 0.0228\n",
      "Epoch 1: val_loss improved from inf to 0.16542, saving model to models/center_finder/run_2/weights.01-0.1654.hdf5\n",
      "288/288 [==============================] - 29s 88ms/step - loss: 0.3759 - center_loss: 0.2512 - energy_loss: 0.1235 - seed_loss: 0.0228 - val_loss: 0.1654 - val_center_loss: 0.1224 - val_energy_loss: 0.0426 - val_seed_loss: 0.0087\n",
      "Epoch 2/30\n",
      "288/288 [==============================] - ETA: 0s - loss: 0.1905 - center_loss: 0.1363 - energy_loss: 0.0539 - seed_loss: 0.0076\n",
      "Epoch 2: val_loss improved from 0.16542 to 0.13250, saving model to models/center_finder/run_2/weights.02-0.1325.hdf5\n",
      "288/288 [==============================] - 22s 77ms/step - loss: 0.1905 - center_loss: 0.1363 - energy_loss: 0.0539 - seed_loss: 0.0076 - val_loss: 0.1325 - val_center_loss: 0.0968 - val_energy_loss: 0.0353 - val_seed_loss: 0.0073\n",
      "Epoch 3/30\n",
      "288/288 [==============================] - ETA: 0s - loss: 0.1528 - center_loss: 0.1072 - energy_loss: 0.0453 - seed_loss: 0.0065\n",
      "Epoch 3: val_loss improved from 0.13250 to 0.11664, saving model to models/center_finder/run_2/weights.03-0.1166.hdf5\n",
      "288/288 [==============================] - 21s 74ms/step - loss: 0.1528 - center_loss: 0.1072 - energy_loss: 0.0453 - seed_loss: 0.0065 - val_loss: 0.1166 - val_center_loss: 0.0861 - val_energy_loss: 0.0302 - val_seed_loss: 0.0066\n",
      "Epoch 4/30\n",
      "288/288 [==============================] - ETA: 0s - loss: 0.1348 - center_loss: 0.0937 - energy_loss: 0.0408 - seed_loss: 0.0059\n",
      "Epoch 4: val_loss improved from 0.11664 to 0.11153, saving model to models/center_finder/run_2/weights.04-0.1115.hdf5\n",
      "288/288 [==============================] - 22s 75ms/step - loss: 0.1348 - center_loss: 0.0937 - energy_loss: 0.0408 - seed_loss: 0.0059 - val_loss: 0.1115 - val_center_loss: 0.0823 - val_energy_loss: 0.0289 - val_seed_loss: 0.0062\n",
      "Epoch 5/30\n",
      "288/288 [==============================] - ETA: 0s - loss: 0.1227 - center_loss: 0.0850 - energy_loss: 0.0374 - seed_loss: 0.0056\n",
      "Epoch 5: val_loss improved from 0.11153 to 0.10830, saving model to models/center_finder/run_2/weights.05-0.1083.hdf5\n",
      "288/288 [==============================] - 21s 74ms/step - loss: 0.1227 - center_loss: 0.0850 - energy_loss: 0.0374 - seed_loss: 0.0056 - val_loss: 0.1083 - val_center_loss: 0.0794 - val_energy_loss: 0.0286 - val_seed_loss: 0.0059\n",
      "Epoch 6/30\n",
      "288/288 [==============================] - ETA: 0s - loss: 0.1147 - center_loss: 0.0793 - energy_loss: 0.0352 - seed_loss: 0.0054\n",
      "Epoch 6: val_loss improved from 0.10830 to 0.10122, saving model to models/center_finder/run_2/weights.06-0.1012.hdf5\n",
      "288/288 [==============================] - 21s 74ms/step - loss: 0.1147 - center_loss: 0.0793 - energy_loss: 0.0352 - seed_loss: 0.0054 - val_loss: 0.1012 - val_center_loss: 0.0743 - val_energy_loss: 0.0266 - val_seed_loss: 0.0057\n",
      "Epoch 7/30\n",
      "288/288 [==============================] - ETA: 0s - loss: 0.1086 - center_loss: 0.0749 - energy_loss: 0.0334 - seed_loss: 0.0052\n",
      "Epoch 7: val_loss did not improve from 0.10122\n",
      "288/288 [==============================] - 22s 75ms/step - loss: 0.1086 - center_loss: 0.0749 - energy_loss: 0.0334 - seed_loss: 0.0052 - val_loss: 0.1045 - val_center_loss: 0.0734 - val_energy_loss: 0.0308 - val_seed_loss: 0.0056\n",
      "Epoch 8/30\n",
      "288/288 [==============================] - ETA: 0s - loss: 0.1047 - center_loss: 0.0719 - energy_loss: 0.0325 - seed_loss: 0.0051\n",
      "Epoch 8: val_loss improved from 0.10122 to 0.09712, saving model to models/center_finder/run_2/weights.08-0.0971.hdf5\n",
      "288/288 [==============================] - 22s 75ms/step - loss: 0.1047 - center_loss: 0.0719 - energy_loss: 0.0325 - seed_loss: 0.0051 - val_loss: 0.0971 - val_center_loss: 0.0699 - val_energy_loss: 0.0269 - val_seed_loss: 0.0054\n",
      "Epoch 9/30\n",
      "288/288 [==============================] - ETA: 0s - loss: 0.1007 - center_loss: 0.0694 - energy_loss: 0.0311 - seed_loss: 0.0049\n",
      "Epoch 9: val_loss improved from 0.09712 to 0.09359, saving model to models/center_finder/run_2/weights.09-0.0936.hdf5\n",
      "288/288 [==============================] - 21s 74ms/step - loss: 0.1007 - center_loss: 0.0694 - energy_loss: 0.0311 - seed_loss: 0.0049 - val_loss: 0.0936 - val_center_loss: 0.0681 - val_energy_loss: 0.0252 - val_seed_loss: 0.0054\n",
      "Epoch 10/30\n",
      "288/288 [==============================] - ETA: 0s - loss: 0.0979 - center_loss: 0.0674 - energy_loss: 0.0303 - seed_loss: 0.0048\n",
      "Epoch 10: val_loss did not improve from 0.09359\n",
      "288/288 [==============================] - 22s 75ms/step - loss: 0.0979 - center_loss: 0.0674 - energy_loss: 0.0303 - seed_loss: 0.0048 - val_loss: 0.0937 - val_center_loss: 0.0665 - val_energy_loss: 0.0269 - val_seed_loss: 0.0053\n",
      "Epoch 11/30\n",
      "288/288 [==============================] - ETA: 0s - loss: 0.0958 - center_loss: 0.0656 - energy_loss: 0.0300 - seed_loss: 0.0047\n",
      "Epoch 11: val_loss improved from 0.09359 to 0.09163, saving model to models/center_finder/run_2/weights.11-0.0916.hdf5\n",
      "288/288 [==============================] - 22s 74ms/step - loss: 0.0958 - center_loss: 0.0656 - energy_loss: 0.0300 - seed_loss: 0.0047 - val_loss: 0.0916 - val_center_loss: 0.0671 - val_energy_loss: 0.0243 - val_seed_loss: 0.0052\n",
      "Epoch 12/30\n",
      "288/288 [==============================] - ETA: 0s - loss: 0.0938 - center_loss: 0.0643 - energy_loss: 0.0293 - seed_loss: 0.0046\n",
      "Epoch 12: val_loss did not improve from 0.09163\n",
      "288/288 [==============================] - 22s 74ms/step - loss: 0.0938 - center_loss: 0.0643 - energy_loss: 0.0293 - seed_loss: 0.0046 - val_loss: 0.0926 - val_center_loss: 0.0670 - val_energy_loss: 0.0254 - val_seed_loss: 0.0051\n",
      "Epoch 13/30\n",
      "288/288 [==============================] - ETA: 0s - loss: 0.0916 - center_loss: 0.0630 - energy_loss: 0.0284 - seed_loss: 0.0046\n",
      "Epoch 13: val_loss improved from 0.09163 to 0.09005, saving model to models/center_finder/run_2/weights.13-0.0901.hdf5\n",
      "288/288 [==============================] - 22s 75ms/step - loss: 0.0916 - center_loss: 0.0630 - energy_loss: 0.0284 - seed_loss: 0.0046 - val_loss: 0.0901 - val_center_loss: 0.0660 - val_energy_loss: 0.0238 - val_seed_loss: 0.0051\n",
      "Epoch 14/30\n",
      "288/288 [==============================] - ETA: 0s - loss: 0.0898 - center_loss: 0.0617 - energy_loss: 0.0280 - seed_loss: 0.0045\n",
      "Epoch 14: val_loss did not improve from 0.09005\n",
      "288/288 [==============================] - 21s 74ms/step - loss: 0.0898 - center_loss: 0.0617 - energy_loss: 0.0280 - seed_loss: 0.0045 - val_loss: 0.0908 - val_center_loss: 0.0625 - val_energy_loss: 0.0280 - val_seed_loss: 0.0050\n",
      "Epoch 15/30\n",
      "288/288 [==============================] - ETA: 0s - loss: 0.0885 - center_loss: 0.0607 - energy_loss: 0.0276 - seed_loss: 0.0044\n",
      "Epoch 15: val_loss improved from 0.09005 to 0.08903, saving model to models/center_finder/run_2/weights.15-0.0890.hdf5\n",
      "288/288 [==============================] - 23s 79ms/step - loss: 0.0885 - center_loss: 0.0607 - energy_loss: 0.0276 - seed_loss: 0.0044 - val_loss: 0.0890 - val_center_loss: 0.0641 - val_energy_loss: 0.0247 - val_seed_loss: 0.0050\n",
      "Epoch 16/30\n",
      "288/288 [==============================] - ETA: 0s - loss: 0.0873 - center_loss: 0.0600 - energy_loss: 0.0271 - seed_loss: 0.0044\n",
      "Epoch 16: val_loss improved from 0.08903 to 0.08572, saving model to models/center_finder/run_2/weights.16-0.0857.hdf5\n",
      "288/288 [==============================] - 22s 75ms/step - loss: 0.0873 - center_loss: 0.0600 - energy_loss: 0.0271 - seed_loss: 0.0044 - val_loss: 0.0857 - val_center_loss: 0.0626 - val_energy_loss: 0.0228 - val_seed_loss: 0.0049\n",
      "Epoch 17/30\n",
      "288/288 [==============================] - ETA: 0s - loss: 0.0863 - center_loss: 0.0591 - energy_loss: 0.0269 - seed_loss: 0.0043\n",
      "Epoch 17: val_loss improved from 0.08572 to 0.08437, saving model to models/center_finder/run_2/weights.17-0.0844.hdf5\n",
      "288/288 [==============================] - 22s 75ms/step - loss: 0.0863 - center_loss: 0.0591 - energy_loss: 0.0269 - seed_loss: 0.0043 - val_loss: 0.0844 - val_center_loss: 0.0611 - val_energy_loss: 0.0231 - val_seed_loss: 0.0049\n",
      "Epoch 18/30\n",
      "288/288 [==============================] - ETA: 0s - loss: 0.0848 - center_loss: 0.0583 - energy_loss: 0.0263 - seed_loss: 0.0043\n",
      "Epoch 18: val_loss did not improve from 0.08437\n",
      "288/288 [==============================] - 21s 74ms/step - loss: 0.0848 - center_loss: 0.0583 - energy_loss: 0.0263 - seed_loss: 0.0043 - val_loss: 0.0856 - val_center_loss: 0.0611 - val_energy_loss: 0.0242 - val_seed_loss: 0.0049\n",
      "Epoch 19/30\n",
      "288/288 [==============================] - ETA: 0s - loss: 0.0841 - center_loss: 0.0578 - energy_loss: 0.0261 - seed_loss: 0.0043\n",
      "Epoch 19: val_loss did not improve from 0.08437\n",
      "288/288 [==============================] - 21s 73ms/step - loss: 0.0841 - center_loss: 0.0578 - energy_loss: 0.0261 - seed_loss: 0.0043 - val_loss: 0.0887 - val_center_loss: 0.0623 - val_energy_loss: 0.0261 - val_seed_loss: 0.0049\n",
      "Epoch 20/30\n",
      "288/288 [==============================] - ETA: 0s - loss: 0.0833 - center_loss: 0.0570 - energy_loss: 0.0261 - seed_loss: 0.0042\n",
      "Epoch 20: val_loss improved from 0.08437 to 0.08304, saving model to models/center_finder/run_2/weights.20-0.0830.hdf5\n",
      "288/288 [==============================] - 21s 73ms/step - loss: 0.0833 - center_loss: 0.0570 - energy_loss: 0.0261 - seed_loss: 0.0042 - val_loss: 0.0830 - val_center_loss: 0.0612 - val_energy_loss: 0.0216 - val_seed_loss: 0.0048\n",
      "Epoch 21/30\n",
      "288/288 [==============================] - ETA: 0s - loss: 0.0826 - center_loss: 0.0566 - energy_loss: 0.0258 - seed_loss: 0.0042\n",
      "Epoch 21: val_loss improved from 0.08304 to 0.08186, saving model to models/center_finder/run_2/weights.21-0.0819.hdf5\n",
      "288/288 [==============================] - 21s 73ms/step - loss: 0.0826 - center_loss: 0.0566 - energy_loss: 0.0258 - seed_loss: 0.0042 - val_loss: 0.0819 - val_center_loss: 0.0601 - val_energy_loss: 0.0215 - val_seed_loss: 0.0048\n",
      "Epoch 22/30\n",
      "288/288 [==============================] - ETA: 0s - loss: 0.0814 - center_loss: 0.0560 - energy_loss: 0.0252 - seed_loss: 0.0042\n",
      "Epoch 22: val_loss did not improve from 0.08186\n",
      "288/288 [==============================] - 21s 73ms/step - loss: 0.0814 - center_loss: 0.0560 - energy_loss: 0.0252 - seed_loss: 0.0042 - val_loss: 0.0846 - val_center_loss: 0.0595 - val_energy_loss: 0.0248 - val_seed_loss: 0.0048\n",
      "Epoch 23/30\n",
      "288/288 [==============================] - ETA: 0s - loss: 0.0809 - center_loss: 0.0555 - energy_loss: 0.0252 - seed_loss: 0.0042\n",
      "Epoch 23: val_loss did not improve from 0.08186\n",
      "288/288 [==============================] - 21s 73ms/step - loss: 0.0809 - center_loss: 0.0555 - energy_loss: 0.0252 - seed_loss: 0.0042 - val_loss: 0.0853 - val_center_loss: 0.0600 - val_energy_loss: 0.0250 - val_seed_loss: 0.0048\n",
      "Epoch 24/30\n",
      "288/288 [==============================] - ETA: 0s - loss: 0.0802 - center_loss: 0.0551 - energy_loss: 0.0249 - seed_loss: 0.0041\n",
      "Epoch 24: val_loss did not improve from 0.08186\n",
      "288/288 [==============================] - 21s 73ms/step - loss: 0.0802 - center_loss: 0.0551 - energy_loss: 0.0249 - seed_loss: 0.0041 - val_loss: 0.0861 - val_center_loss: 0.0585 - val_energy_loss: 0.0273 - val_seed_loss: 0.0048\n",
      "Epoch 25/30\n",
      "288/288 [==============================] - ETA: 0s - loss: 0.0791 - center_loss: 0.0546 - energy_loss: 0.0244 - seed_loss: 0.0041\n",
      "Epoch 25: val_loss did not improve from 0.08186\n",
      "288/288 [==============================] - 21s 73ms/step - loss: 0.0791 - center_loss: 0.0546 - energy_loss: 0.0244 - seed_loss: 0.0041 - val_loss: 0.0821 - val_center_loss: 0.0595 - val_energy_loss: 0.0224 - val_seed_loss: 0.0047\n",
      "Epoch 26/30\n",
      "288/288 [==============================] - ETA: 0s - loss: 0.0791 - center_loss: 0.0541 - energy_loss: 0.0247 - seed_loss: 0.0041\n",
      "Epoch 26: val_loss improved from 0.08186 to 0.07933, saving model to models/center_finder/run_2/weights.26-0.0793.hdf5\n",
      "288/288 [==============================] - 21s 73ms/step - loss: 0.0791 - center_loss: 0.0541 - energy_loss: 0.0247 - seed_loss: 0.0041 - val_loss: 0.0793 - val_center_loss: 0.0581 - val_energy_loss: 0.0210 - val_seed_loss: 0.0047\n",
      "Epoch 27/30\n",
      "288/288 [==============================] - ETA: 0s - loss: 0.0782 - center_loss: 0.0538 - energy_loss: 0.0241 - seed_loss: 0.0041\n",
      "Epoch 27: val_loss did not improve from 0.07933\n",
      "288/288 [==============================] - 21s 73ms/step - loss: 0.0782 - center_loss: 0.0538 - energy_loss: 0.0241 - seed_loss: 0.0041 - val_loss: 0.0837 - val_center_loss: 0.0589 - val_energy_loss: 0.0246 - val_seed_loss: 0.0047\n",
      "Epoch 28/30\n",
      "288/288 [==============================] - ETA: 0s - loss: 0.0777 - center_loss: 0.0534 - energy_loss: 0.0241 - seed_loss: 0.0040\n",
      "Epoch 28: val_loss did not improve from 0.07933\n",
      "288/288 [==============================] - 21s 73ms/step - loss: 0.0777 - center_loss: 0.0534 - energy_loss: 0.0241 - seed_loss: 0.0040 - val_loss: 0.0797 - val_center_loss: 0.0572 - val_energy_loss: 0.0222 - val_seed_loss: 0.0047\n",
      "Epoch 29/30\n",
      "288/288 [==============================] - ETA: 0s - loss: 0.0769 - center_loss: 0.0531 - energy_loss: 0.0236 - seed_loss: 0.0040\n",
      "Epoch 29: val_loss improved from 0.07933 to 0.07882, saving model to models/center_finder/run_2/weights.29-0.0788.hdf5\n",
      "288/288 [==============================] - 21s 73ms/step - loss: 0.0769 - center_loss: 0.0531 - energy_loss: 0.0236 - seed_loss: 0.0040 - val_loss: 0.0788 - val_center_loss: 0.0580 - val_energy_loss: 0.0206 - val_seed_loss: 0.0047\n",
      "Epoch 30/30\n",
      "288/288 [==============================] - ETA: 0s - loss: 0.0765 - center_loss: 0.0527 - energy_loss: 0.0236 - seed_loss: 0.0039\n",
      "Epoch 30: val_loss improved from 0.07882 to 0.07732, saving model to models/center_finder/run_2/weights.30-0.0773.hdf5\n",
      "288/288 [==============================] - 21s 73ms/step - loss: 0.0765 - center_loss: 0.0527 - energy_loss: 0.0236 - seed_loss: 0.0039 - val_loss: 0.0773 - val_center_loss: 0.0568 - val_energy_loss: 0.0203 - val_seed_loss: 0.0047\n"
     ]
    }
   ],
   "source": [
    "history = model.fit(Xtrain, ytrain,\n",
    "                    validation_data=(Xvalid, yvalid), \n",
    "                    epochs=30, batch_size=512, \n",
    "                    callbacks=[checkpoint, callback])"
   ]
  },
  {
   "cell_type": "code",
   "execution_count": 10,
   "metadata": {},
   "outputs": [
    {
     "name": "stdout",
     "output_type": "stream",
     "text": [
      "INFO:tensorflow:Assets written to: models/center_finder/run_2/assets\n"
     ]
    },
    {
     "name": "stderr",
     "output_type": "stream",
     "text": [
      "INFO:tensorflow:Assets written to: models/center_finder/run_2/assets\n"
     ]
    }
   ],
   "source": [
    "model.save(filepath)"
   ]
  },
  {
   "cell_type": "markdown",
   "metadata": {},
   "source": [
    "# Draw loss function "
   ]
  },
  {
   "cell_type": "code",
   "execution_count": 11,
   "metadata": {},
   "outputs": [
    {
     "data": {
      "image/png": "[encoded data removed]",
      "text/plain": [
       "<Figure size 750x750 with 1 Axes>"
      ]
     },
     "metadata": {},
     "output_type": "display_data"
    }
   ],
   "source": [
    "import matplotlib.pyplot as plt\n",
    "import numpy as np\n",
    "\n",
    "plt.rcParams['figure.figsize'] = (5,5)\n",
    "plt.rcParams['figure.dpi'] = 150\n",
    "\n",
    "plt.scatter(np.arange(0,30), history.history[\"loss\"], s=1., label='loss')\n",
    "plt.scatter(np.arange(0,30), history.history[\"val_loss\"], s=1., label='val_loss')\n",
    "plt.legend()\n",
    "plt.savefig(str(filepath) + '/loss_function')"
   ]
  }
 ],
 "metadata": {
  "kernelspec": {
   "display_name": "envdeep",
   "language": "python",
   "name": "python3"
  },
  "language_info": {
   "codemirror_mode": {
    "name": "ipython",
    "version": 3
   },
   "file_extension": ".py",
   "mimetype": "text/x-python",
   "name": "python",
   "nbconvert_exporter": "python",
   "pygments_lexer": "ipython3",
   "version": "3.9.18"
  },
  "orig_nbformat": 4
 },
 "nbformat": 4,
 "nbformat_minor": 2
}
